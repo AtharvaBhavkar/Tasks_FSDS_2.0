{
 "cells": [
  {
   "cell_type": "markdown",
   "id": "e106a1de",
   "metadata": {},
   "source": [
    "# Programming Assignment 10"
   ]
  },
  {
   "cell_type": "markdown",
   "id": "eee6a1cd",
   "metadata": {},
   "source": [
    "**Q1.Write a Python Program to find sum of elements in a list?**"
   ]
  },
  {
   "cell_type": "code",
   "execution_count": 1,
   "id": "7d68f1a2",
   "metadata": {},
   "outputs": [
    {
     "name": "stdout",
     "output_type": "stream",
     "text": [
      "Enter the No of Entries in a List: 5\n",
      "Enter a element: 1\n",
      "Enter a element: 2\n",
      "Enter a element: 4\n",
      "Enter a element: 6\n",
      "Enter a element: 91\n",
      "Sum of Elements: 104\n"
     ]
    }
   ],
   "source": [
    "def sumofList():\n",
    "    ele = int(input('Enter the No of Entries in a List: '))\n",
    "    list_ele = []\n",
    "    for itr in range(ele):\n",
    "        list_ele.append(int(input('Enter a element: ')))\n",
    "    print(f'Sum of Elements: {sum(list_ele)}')\n",
    "\n",
    "sumofList()"
   ]
  },
  {
   "cell_type": "markdown",
   "id": "90109b9b",
   "metadata": {},
   "source": [
    "**Q2.Write a Python Program to multiply all numbers in the list ?**"
   ]
  },
  {
   "cell_type": "code",
   "execution_count": 2,
   "id": "f967b810",
   "metadata": {},
   "outputs": [
    {
     "name": "stdout",
     "output_type": "stream",
     "text": [
      "Enter the No of Entries in a List: 5\n",
      "Enter a element: 1\n",
      "Enter a element: 2\n",
      "Enter a element: 5\n",
      "Enter a element: 9\n",
      "Enter a element: 2\n",
      "180\n"
     ]
    }
   ],
   "source": [
    "def mulofList():\n",
    "    n = int(input('Enter the No of Entries in a List: '))\n",
    "    list_ele = []\n",
    "    mul = 1\n",
    "    for itr in range(n):\n",
    "        list_ele.append(int(input('Enter a element: ')))\n",
    "    for ele in list_ele:\n",
    "        mul = mul * ele\n",
    "    print(mul)\n",
    "\n",
    "mulofList()"
   ]
  },
  {
   "cell_type": "markdown",
   "id": "b47b3f9b",
   "metadata": {},
   "source": [
    "**Q3.Write a Python Program to find smallest number in the list ?**"
   ]
  },
  {
   "cell_type": "code",
   "execution_count": 4,
   "id": "162331b9",
   "metadata": {},
   "outputs": [
    {
     "name": "stdout",
     "output_type": "stream",
     "text": [
      "Enter the No of elements in a list: 5\n",
      "Enter a Element: 1\n",
      "Enter a Element: 2\n",
      "Enter a Element: 5\n",
      "Enter a Element: 7\n",
      "Enter a Element: 3\n",
      "The Smallest Element in [1, 2, 5, 7, 3] is 1\n"
     ]
    }
   ],
   "source": [
    "def smallEleInList():\n",
    "    ele = int(input('Enter the No of elements in a list: '))\n",
    "    list_ele = []\n",
    "    for ele in range(ele):\n",
    "        list_ele.append(int(input('Enter a Element: ')))\n",
    "    print(f'The Smallest Element in {list_ele} is {sorted(list_ele)[0]}')\n",
    "smallEleInList()"
   ]
  },
  {
   "cell_type": "markdown",
   "id": "dcc5138a",
   "metadata": {},
   "source": [
    "**Q4.Write a Python Program to find largest number in the list ?**"
   ]
  },
  {
   "cell_type": "code",
   "execution_count": 5,
   "id": "583077f3",
   "metadata": {},
   "outputs": [
    {
     "name": "stdout",
     "output_type": "stream",
     "text": [
      "Enter the No of elements in a list: 4\n",
      "Enter a Element: 12\n",
      "Enter a Element: 35\n",
      "Enter a Element: 72\n",
      "Enter a Element: 11\n",
      "The Largest Element in [12, 35, 72, 11] is 72\n"
     ]
    }
   ],
   "source": [
    "def largestEleInList():\n",
    "    ele = int(input('Enter the No of elements in a list: '))\n",
    "    list_ele = []\n",
    "    for ele in range(ele):\n",
    "        list_ele.append(int(input('Enter a Element: ')))\n",
    "    print(f'The Largest Element in {list_ele} is {sorted(list_ele, reverse=True)[0]}')\n",
    "\n",
    "largestEleInList()"
   ]
  },
  {
   "cell_type": "markdown",
   "id": "1b96aa2b",
   "metadata": {},
   "source": [
    "**Q5.Write a Python Program to find second largest number in the list ?**"
   ]
  },
  {
   "cell_type": "code",
   "execution_count": 6,
   "id": "b6bf7f26",
   "metadata": {},
   "outputs": [
    {
     "name": "stdout",
     "output_type": "stream",
     "text": [
      "Enter the No of elements in a list: 5\n",
      "Enter a Element: 28\n",
      "Enter a Element: 19\n",
      "Enter a Element: 20\n",
      "Enter a Element: 93\n",
      "Enter a Element: 12\n",
      "The Second Largest Element in [28, 19, 20, 93, 12] is 28\n"
     ]
    }
   ],
   "source": [
    "def secondLargestEleInList():\n",
    "    ele = int(input('Enter the No of elements in a list: '))\n",
    "    list_ele = []\n",
    "    for ele in range(ele):\n",
    "        list_ele.append(int(input('Enter a Element: ')))\n",
    "    print(f'The Second Largest Element in {list_ele} is {sorted(list_ele, reverse=True)[1]}')\n",
    "\n",
    "secondLargestEleInList()"
   ]
  },
  {
   "cell_type": "markdown",
   "id": "4d447cdf",
   "metadata": {},
   "source": [
    "**Q6.Write a Python Program to find N largest elements in the list ?**"
   ]
  },
  {
   "cell_type": "code",
   "execution_count": 7,
   "id": "027413c0",
   "metadata": {},
   "outputs": [
    {
     "name": "stdout",
     "output_type": "stream",
     "text": [
      "Enter n value for giving N largest elements: 5\n",
      "Enter the No of elements in a list: 7\n",
      "Enter a Element: 2\n",
      "Enter a Element: 4\n",
      "Enter a Element: 5\n",
      "Enter a Element: 9\n",
      "Enter a Element: 11\n",
      "Enter a Element: 24\n",
      "Enter a Element: 12\n",
      "The 5 Largest Element in [2, 4, 5, 9, 11, 24, 12] is [24, 12, 11, 9, 5]\n"
     ]
    }
   ],
   "source": [
    "def nLargestEleInList(k):\n",
    "    ele = int(input('Enter the No of elements in a list: '))\n",
    "    list_ele = []\n",
    "    for ele in range(ele):\n",
    "        list_ele.append(int(input('Enter a Element: ')))\n",
    "    print(f'The {k} Largest Element in {list_ele} is {sorted(list_ele, reverse=True)[0:k]}')\n",
    "\n",
    "n = int(input(\"Enter n value for giving N largest elements: \"))\n",
    "nLargestEleInList(n)\n"
   ]
  },
  {
   "cell_type": "markdown",
   "id": "bb871a14",
   "metadata": {},
   "source": [
    "**Q7.Write a Python Program to find even numbers in the list ?**"
   ]
  },
  {
   "cell_type": "code",
   "execution_count": 8,
   "id": "0615b539",
   "metadata": {},
   "outputs": [
    {
     "name": "stdout",
     "output_type": "stream",
     "text": [
      "Enter the No of elements in a list: 5\n",
      "Enter a Element: 1\n",
      "Enter a Element: 2\n",
      "Enter a Element: 3\n",
      "Enter a Element: 4\n",
      "Enter a Element: 5\n",
      "The Even Elements in [1, 2, 3, 4, 5] are [2, 4]\n"
     ]
    }
   ],
   "source": [
    "def evenNoInList():\n",
    "    ele = int(input('Enter the No of elements in a list: '))\n",
    "    list_ele = []\n",
    "    even_list = []\n",
    "    for ele in range(ele):\n",
    "        list_ele.append(int(input('Enter a Element: ')))\n",
    "    for ele in list_ele:\n",
    "        if ele%2 == 0:\n",
    "            even_list.append(ele)\n",
    "    print(f'The Even Elements in {list_ele} are {even_list}')\n",
    "\n",
    "evenNoInList()"
   ]
  },
  {
   "cell_type": "markdown",
   "id": "9a50debd",
   "metadata": {},
   "source": [
    "**Q8.Write a Python Program to find odd numbers in the list ?**"
   ]
  },
  {
   "cell_type": "code",
   "execution_count": 9,
   "id": "b1f6c980",
   "metadata": {},
   "outputs": [
    {
     "name": "stdout",
     "output_type": "stream",
     "text": [
      "Enter the No of elements in a list: 5\n",
      "Enter a Element: 2\n",
      "Enter a Element: 4\n",
      "Enter a Element: 6\n",
      "Enter a Element: 7\n",
      "Enter a Element: 9\n",
      "The Odd Elements in [2, 4, 6, 7, 9] are [7, 9]\n"
     ]
    }
   ],
   "source": [
    "def oddNoInList():\n",
    "    ele = int(input('Enter the No of elements in a list: '))\n",
    "    list_ele = []\n",
    "    odd_list = []\n",
    "    for ele in range(ele):\n",
    "        list_ele.append(int(input('Enter a Element: ')))\n",
    "    for ele in list_ele:\n",
    "        if ele%2 != 0:\n",
    "            odd_list.append(ele)\n",
    "    print(f'The Odd Elements in {list_ele} are {odd_list}')\n",
    "\n",
    "oddNoInList()"
   ]
  },
  {
   "cell_type": "markdown",
   "id": "da6e9894",
   "metadata": {},
   "source": [
    "**Q9.Write a Python Program to remove empty list from list ?**"
   ]
  },
  {
   "cell_type": "code",
   "execution_count": 10,
   "id": "40a26817",
   "metadata": {},
   "outputs": [
    {
     "name": "stdout",
     "output_type": "stream",
     "text": [
      "Enter all elements of the list, seperated by comma: [1,2,4,5,[],53]\n",
      "There is an Empty list in [1, 2, 4, 5, [], 53] at Position 4\n",
      "The List after removing [] is [1, 2, 4, 5, 53]\n"
     ]
    }
   ],
   "source": [
    "def checkEmptyList():\n",
    "    list_ele = eval(input('Enter all elements of the list, seperated by comma: '))\n",
    "    if [] in list_ele:\n",
    "        print(f'There is an Empty list in {list_ele} at Position {list_ele.index([])}')\n",
    "        list_ele.remove([])\n",
    "        print(f'The List after removing [] is {list_ele}')\n",
    "    else:\n",
    "        print(f'There is no [] List in the list {list_ele}')\n",
    "        \n",
    "checkEmptyList()"
   ]
  },
  {
   "cell_type": "markdown",
   "id": "8ec8c677",
   "metadata": {},
   "source": [
    "**Q10.Write a Python Program to Cloning or Copying a list ?**"
   ]
  },
  {
   "cell_type": "code",
   "execution_count": 11,
   "id": "ed75a074",
   "metadata": {},
   "outputs": [
    {
     "name": "stdout",
     "output_type": "stream",
     "text": [
      "Enter a list[1,2,3,5]\n",
      "[1, 2, 3, 5] 1550556556672\n",
      "[1, 2, 3, 5] 1550556350592\n"
     ]
    }
   ],
   "source": [
    "import copy\n",
    "\n",
    "def cloneList():\n",
    "    list_ele = eval(input('Enter a list'))\n",
    "    print(list_ele, id(list_ele))\n",
    "    cloned_list = list_ele.copy()\n",
    "    print(cloned_list, id(cloned_list))\n",
    "\n",
    "cloneList()"
   ]
  },
  {
   "cell_type": "markdown",
   "id": "ec477287",
   "metadata": {},
   "source": [
    "**Q11.Write a Python Program to count occurences of an element in a list ?**"
   ]
  },
  {
   "cell_type": "code",
   "execution_count": 12,
   "id": "bda16a76",
   "metadata": {},
   "outputs": [
    {
     "name": "stdout",
     "output_type": "stream",
     "text": [
      "Enter the elements of the list: [1,2,5,7,9,4]\n",
      "Enter the element to find: 4\n",
      "There are 1 occurences of 4 in [1, 2, 5, 7, 9, 4]\n"
     ]
    }
   ],
   "source": [
    "def checkOccurence():\n",
    "    list_ele = eval(input('Enter the elements of the list: '))\n",
    "    num = eval(input('Enter the element to find: '))\n",
    "    count = 0\n",
    "    if num in list_ele:\n",
    "        for ele in list_ele:\n",
    "            if ele == num:\n",
    "                count = count+1\n",
    "    print(f'There are {count} occurences of {num} in {list_ele}')\n",
    "    \n",
    "checkOccurence()"
   ]
  }
 ],
 "metadata": {
  "kernelspec": {
   "display_name": "Python 3 (ipykernel)",
   "language": "python",
   "name": "python3"
  },
  "language_info": {
   "codemirror_mode": {
    "name": "ipython",
    "version": 3
   },
   "file_extension": ".py",
   "mimetype": "text/x-python",
   "name": "python",
   "nbconvert_exporter": "python",
   "pygments_lexer": "ipython3",
   "version": "3.9.7"
  }
 },
 "nbformat": 4,
 "nbformat_minor": 5
}
