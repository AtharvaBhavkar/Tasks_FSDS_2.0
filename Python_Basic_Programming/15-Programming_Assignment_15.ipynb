{
 "cells": [
  {
   "cell_type": "markdown",
   "id": "aa17c00c",
   "metadata": {},
   "source": [
    "# Programming Assignment 15"
   ]
  },
  {
   "cell_type": "markdown",
   "id": "1f9c844d",
   "metadata": {},
   "source": [
    "**Q1. Please write a program using generator to print the numbers which can be divisible by 5 and 7 between 0 and n in comma separated form while n is input by console ?**"
   ]
  },
  {
   "cell_type": "markdown",
   "id": "ba73345f",
   "metadata": {},
   "source": [
    "Example:<br>\n",
    "If the following n is given as input to the program: 100<br>\n",
    "Then, the output of the program should be: 0,35,70"
   ]
  },
  {
   "cell_type": "code",
   "execution_count": 1,
   "id": "8a6e4789",
   "metadata": {},
   "outputs": [
    {
     "name": "stdout",
     "output_type": "stream",
     "text": [
      "Enter the number: 100\n",
      "0 35 70 "
     ]
    }
   ],
   "source": [
    "def showDivisible(n):\n",
    "    for ele in range(0,n):\n",
    "        if (ele%5 == 0) and (ele%7 == 0):\n",
    "            yield ele\n",
    "n = int(input(\"Enter the number: \"))\n",
    "for ele in showDivisible(n):\n",
    "    print(ele,end=' ')"
   ]
  },
  {
   "cell_type": "markdown",
   "id": "63c623e8",
   "metadata": {},
   "source": [
    "**Q2.Please write a program using generator to print the even numbers between 0 and n in comma separated form while n is input by console ?**\n",
    "\n",
    "Example:\n",
    "\n",
    "If the following n is given as input to the program: 10<br>\n",
    "Then, the output of the program should be: 0,2,4,6,8,10"
   ]
  },
  {
   "cell_type": "code",
   "execution_count": 2,
   "id": "e4ebce39",
   "metadata": {},
   "outputs": [
    {
     "name": "stdout",
     "output_type": "stream",
     "text": [
      "Enter the number: 10\n",
      "0 2 4 6 8 10 "
     ]
    }
   ],
   "source": [
    "def genEvenNumbers(n):\n",
    "    for ele in range(n+1):\n",
    "        if ele%2 == 0:\n",
    "            yield ele\n",
    "\n",
    "n = int(input(\"Enter the number: \"))\n",
    "for ele in genEvenNumbers(n):\n",
    "    print(ele,end=' ')"
   ]
  },
  {
   "cell_type": "markdown",
   "id": "8b0779fb",
   "metadata": {},
   "source": [
    "**Q3.The Fibonacci Sequence is computed based on the following formula below, Please write a program using list comprehension to print the Fibonacci Sequence in comma separated form with a given n input by console ?**\n",
    "\n",
    "f(n)=0 if n=0 f(n)=1 if n=1 f(n)=f(n-1)+f(n-2) if n>1"
   ]
  },
  {
   "cell_type": "code",
   "execution_count": 3,
   "id": "923f8a06",
   "metadata": {},
   "outputs": [
    {
     "name": "stdout",
     "output_type": "stream",
     "text": [
      "Enter the number: 10\n",
      "[0, 1, 1, 2, 3, 5, 8, 13, 21, 34]\n"
     ]
    }
   ],
   "source": [
    "def genFibonaci(n):\n",
    "    if n == 0:\n",
    "        return 0\n",
    "    elif n==1:\n",
    "        return 1\n",
    "    else:\n",
    "        return genFibonaci(n-1)+genFibonaci(n-2)\n",
    "n = int(input(\"Enter the number: \"))  \n",
    "print([genFibonaci(x) for x in range(n)])"
   ]
  },
  {
   "cell_type": "markdown",
   "id": "754a4c71",
   "metadata": {},
   "source": [
    "**Q4.Assuming that we have some email addresses in the \"username@companyname.com\" format, please write program to print the user name of a given email address. Both user names and company names are composed of letters only ?**\n",
    "\n",
    "Example:\n",
    "If the following email address is given as input to the program: john@google.com\n",
    "Then, the output of the program should be: joh"
   ]
  },
  {
   "cell_type": "code",
   "execution_count": 4,
   "id": "403ef528",
   "metadata": {},
   "outputs": [
    {
     "name": "stdout",
     "output_type": "stream",
     "text": [
      "Enter Email Address(es): ab_cd@gmail.com\n",
      "Username of ab_cd@gmail.com is ab_cd\n",
      "Enter Email Address(es): ath2cjcm@gmail.com\n",
      "Username of ath2cjcm@gmail.com is ath2cjcm\n",
      "Enter Email Address(es): \n",
      "Username of  is \n"
     ]
    }
   ],
   "source": [
    "def getUsernames():\n",
    "    in_string = input('Enter Email Address(es): ')\n",
    "    out_string = in_string.split('@')\n",
    "    print(f'Username of {in_string} is {out_string[0]}')\n",
    "\n",
    "for i in range(3):\n",
    "    getUsernames()"
   ]
  },
  {
   "cell_type": "markdown",
   "id": "5d911703",
   "metadata": {},
   "source": [
    "**Q5.Define a class named Shape and its subclass Square. The Square class has an init function which takes a length as argument. Both classes have a area function which can print the area of the shape where Shape's area is 0 by default.**\n",
    "\n"
   ]
  },
  {
   "cell_type": "code",
   "execution_count": 5,
   "id": "17b6e86d",
   "metadata": {},
   "outputs": [
    {
     "name": "stdout",
     "output_type": "stream",
     "text": [
      "Enter the number: 50\n",
      "2500\n"
     ]
    }
   ],
   "source": [
    "class Shape:\n",
    "    def area(self):\n",
    "        return 0\n",
    "\n",
    "class Square(Shape):\n",
    "    def __init__(self, length):\n",
    "        self.length = length\n",
    "    def area(self):\n",
    "        return self.length*self.length\n",
    "n = int(input(\"Enter the number: \"))\n",
    "square = Square(n)\n",
    "print(square.area())"
   ]
  }
 ],
 "metadata": {
  "kernelspec": {
   "display_name": "Python 3 (ipykernel)",
   "language": "python",
   "name": "python3"
  },
  "language_info": {
   "codemirror_mode": {
    "name": "ipython",
    "version": 3
   },
   "file_extension": ".py",
   "mimetype": "text/x-python",
   "name": "python",
   "nbconvert_exporter": "python",
   "pygments_lexer": "ipython3",
   "version": "3.9.7"
  }
 },
 "nbformat": 4,
 "nbformat_minor": 5
}
