{
 "cells": [
  {
   "cell_type": "markdown",
   "id": "d838d52f",
   "metadata": {},
   "source": [
    "# Programming Assignment 11"
   ]
  },
  {
   "cell_type": "markdown",
   "id": "381f1c06",
   "metadata": {},
   "source": [
    "**Q1. Write a Python program to find words which are greater than given length k ?**"
   ]
  },
  {
   "cell_type": "code",
   "execution_count": 1,
   "id": "8fe986f0",
   "metadata": {},
   "outputs": [
    {
     "name": "stdout",
     "output_type": "stream",
     "text": [
      "Enter the string: this is a string type\n",
      "Enter the length : 2\n",
      "type,string,a\n"
     ]
    }
   ],
   "source": [
    "def checkLengthOfString():\n",
    "    inp = input(\"Enter the string: \")\n",
    "    in_length = int(input('Enter the length : '))\n",
    "    in_list = inp.split()\n",
    "    out = []\n",
    "    n = len(in_list) - in_length\n",
    "    k = 0\n",
    "#     print(n)\n",
    "    for i in range(len(in_list),0,-1):\n",
    "        out.append(in_list[i-1])\n",
    "        k+=1\n",
    "        if k>=n:\n",
    "            break\n",
    "    print(','.join(out))\n",
    "\n",
    "checkLengthOfString()"
   ]
  },
  {
   "cell_type": "markdown",
   "id": "8a7e6cf3",
   "metadata": {},
   "source": [
    "**Q2. Write a Python program for removing i-th character from a string ?**"
   ]
  },
  {
   "cell_type": "code",
   "execution_count": 2,
   "id": "f371d28b",
   "metadata": {},
   "outputs": [
    {
     "name": "stdout",
     "output_type": "stream",
     "text": [
      "Enter the String: abcedf\n",
      "Enter the ith Character: 2\n",
      "abedf\n"
     ]
    }
   ],
   "source": [
    "def removeCharacter():\n",
    "    inp = input(\"Enter the String: \")\n",
    "    in_char_num = int(input(\"Enter the ith Character: \"))\n",
    "    out = ''\n",
    "    for ele in range(len(inp)):\n",
    "        if ele != in_char_num:\n",
    "            out = out + inp[ele]\n",
    "    print(out)\n",
    "    \n",
    "removeCharacter()"
   ]
  },
  {
   "cell_type": "markdown",
   "id": "77e114f1",
   "metadata": {},
   "source": [
    "**Q3. Write a Python program to split and join a string ?**"
   ]
  },
  {
   "cell_type": "code",
   "execution_count": 3,
   "id": "df52d073",
   "metadata": {},
   "outputs": [
    {
     "name": "stdout",
     "output_type": "stream",
     "text": [
      "Enter the string: This is a string\n",
      "Split String: ['This', 'is', 'a', 'string']\n",
      "Join String: This is a string\n"
     ]
    }
   ],
   "source": [
    "def sjString():\n",
    "    inp = input('Enter the string: ')\n",
    "    ls = inp.split()\n",
    "    print(f\"Split String: {ls}\")\n",
    "    print(f\"Join String: {' '.join(ls)}\")\n",
    "\n",
    "sjString()"
   ]
  },
  {
   "cell_type": "markdown",
   "id": "9c0e8e1c",
   "metadata": {},
   "source": [
    "**Q4. Write a Python to check if a given string is binary string or not?**"
   ]
  },
  {
   "cell_type": "code",
   "execution_count": 4,
   "id": "45b89fb4",
   "metadata": {},
   "outputs": [
    {
     "name": "stdout",
     "output_type": "stream",
     "text": [
      "Enter the string: 11010\n",
      "11010 is a binary string\n",
      "Enter the string: 12192\n",
      "12192 is not a binary string\n"
     ]
    }
   ],
   "source": [
    "def checkBinary():\n",
    "    inp = input('Enter the string: ')\n",
    "    flag = 0\n",
    "    for ele in inp:\n",
    "        if ele in ['0','1']:\n",
    "            flag = 1\n",
    "            continue\n",
    "        else:\n",
    "            flag = 0\n",
    "            break\n",
    "    statement = 'is a binary string' if flag == 1 else 'is not a binary string' \n",
    "    print(f'{inp} {statement}')\n",
    "\n",
    "checkBinary()\n",
    "checkBinary()"
   ]
  },
  {
   "cell_type": "markdown",
   "id": "36ab8e57",
   "metadata": {},
   "source": [
    "**Q5. Write a Python program to find uncommon words from two Strings ?**"
   ]
  },
  {
   "cell_type": "code",
   "execution_count": 5,
   "id": "d6fbb45f",
   "metadata": {},
   "outputs": [
    {
     "name": "stdout",
     "output_type": "stream",
     "text": [
      "Enter the String 1: 'Aman' is a string type\n",
      "Enter the String 2: 12 is a integer type\n",
      "{'string', \"'Aman'\", '12', 'integer'}\n"
     ]
    }
   ],
   "source": [
    "def unCommonWords():\n",
    "    inp_1 = set(input(\"Enter the String 1: \").split())\n",
    "    inp_2 = set(input(\"Enter the String 2: \").split())\n",
    "    out = (inp_1.union(inp_2)).difference(inp_1.intersection(inp_2))\n",
    "    print(out)\n",
    "\n",
    "unCommonWords()"
   ]
  },
  {
   "cell_type": "markdown",
   "id": "f77c03d9",
   "metadata": {},
   "source": [
    "**Q6. Write a Python to find all duplicate characters in string ?**"
   ]
  },
  {
   "cell_type": "code",
   "execution_count": 6,
   "id": "dc3b154a",
   "metadata": {},
   "outputs": [
    {
     "name": "stdout",
     "output_type": "stream",
     "text": [
      "Enter the string: abcbced\n",
      "Duplicate characters are: ['c', 'b']\n"
     ]
    }
   ],
   "source": [
    "def duplicateChars():\n",
    "    inp = input('Enter the string: ')\n",
    "    non_duplicate_list = []\n",
    "    duplicate_list = []\n",
    "    for ele in inp:\n",
    "        if ele not in non_duplicate_list:\n",
    "            non_duplicate_list.append(ele)\n",
    "        else:\n",
    "            duplicate_list.append(ele)\n",
    "    print(f'Duplicate characters are: {list(set(duplicate_list))}')\n",
    "        \n",
    "duplicateChars()"
   ]
  },
  {
   "cell_type": "markdown",
   "id": "78d9e36a",
   "metadata": {},
   "source": [
    "**Q7. Write a Python Program to check if a string contains any special character?**"
   ]
  },
  {
   "cell_type": "code",
   "execution_count": 7,
   "id": "335d8b5b",
   "metadata": {},
   "outputs": [
    {
     "name": "stdout",
     "output_type": "stream",
     "text": [
      "Enter the string: Abc@21#&Ac$\n",
      "There are 4 Speical Characters in Abc@21#&Ac$ which are ['@', '#', '&', '$']\n",
      "Enter the string: Abc\n",
      "There are 0 Speical Characters in Abc which are []\n"
     ]
    }
   ],
   "source": [
    "def checkSpecialChar():\n",
    "    spl_chars = '[@_!#$%^&*()<>?/\\|}{~:]'\n",
    "    in_num = input('Enter the string: ')\n",
    "    count = 0\n",
    "    char_list = []\n",
    "    for ele in in_num:\n",
    "        if ele in spl_chars:\n",
    "            char_list.append(ele)\n",
    "            count = count+1\n",
    "    print(f'There are {count} Speical Characters in {in_num} which are {char_list}')\n",
    "            \n",
    "        \n",
    "checkSpecialChar()\n",
    "checkSpecialChar()"
   ]
  }
 ],
 "metadata": {
  "kernelspec": {
   "display_name": "Python 3 (ipykernel)",
   "language": "python",
   "name": "python3"
  },
  "language_info": {
   "codemirror_mode": {
    "name": "ipython",
    "version": 3
   },
   "file_extension": ".py",
   "mimetype": "text/x-python",
   "name": "python",
   "nbconvert_exporter": "python",
   "pygments_lexer": "ipython3",
   "version": "3.9.7"
  }
 },
 "nbformat": 4,
 "nbformat_minor": 5
}
