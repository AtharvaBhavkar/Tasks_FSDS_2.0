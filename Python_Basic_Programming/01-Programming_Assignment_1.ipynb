{
 "cells": [
  {
   "cell_type": "markdown",
   "id": "000855cb",
   "metadata": {},
   "source": [
    "# Programming Assignment 1"
   ]
  },
  {
   "cell_type": "markdown",
   "id": "a388f932",
   "metadata": {},
   "source": [
    "**Q1.Write a Python program to print 'Hello Python' ?**"
   ]
  },
  {
   "cell_type": "code",
   "execution_count": 1,
   "id": "0ce12b9a",
   "metadata": {},
   "outputs": [
    {
     "name": "stdout",
     "output_type": "stream",
     "text": [
      "Hello Python\n"
     ]
    }
   ],
   "source": [
    "print('Hello Python')"
   ]
  },
  {
   "cell_type": "markdown",
   "id": "4cfcc51b",
   "metadata": {},
   "source": [
    "**Q2.Write a Python program to do arithmetic operations addition and division ?**"
   ]
  },
  {
   "cell_type": "code",
   "execution_count": 2,
   "id": "90e6a213",
   "metadata": {},
   "outputs": [
    {
     "name": "stdout",
     "output_type": "stream",
     "text": [
      "50\n",
      "7\n",
      "Addition is:  57\n",
      "Multiplication is:  7.142857142857143\n"
     ]
    }
   ],
   "source": [
    "a = int(input())\n",
    "b = int(input())\n",
    "try:\n",
    "    c = a+b\n",
    "    d = a/b\n",
    "except:\n",
    "    print(\"Enter correct numbers\")\n",
    "print(\"Addition is: \",c)\n",
    "print(\"Multiplication is: \",d)"
   ]
  },
  {
   "cell_type": "markdown",
   "id": "dc221b14",
   "metadata": {},
   "source": [
    "**Q3.Write a Python program to find the area of a triangle ?**"
   ]
  },
  {
   "cell_type": "code",
   "execution_count": 3,
   "id": "bcc2e1e7",
   "metadata": {},
   "outputs": [
    {
     "name": "stdout",
     "output_type": "stream",
     "text": [
      "Enter height of triangle: 12\n",
      "Enter base of triangle: 4\n",
      "\n",
      "Area of triangle:  24.0\n"
     ]
    }
   ],
   "source": [
    "height = int(input('Enter height of triangle: '))\n",
    "base = int(input('Enter base of triangle: '))\n",
    "\n",
    "def area(height, base):\n",
    "    print('\\nArea of triangle: ', 0.5*height*base)\n",
    "\n",
    "area(height,base)"
   ]
  },
  {
   "cell_type": "markdown",
   "id": "a0b31961",
   "metadata": {},
   "source": [
    "**Q4.Write a Python program to swap two variables ?**"
   ]
  },
  {
   "cell_type": "code",
   "execution_count": 6,
   "id": "2acff599",
   "metadata": {},
   "outputs": [
    {
     "name": "stdout",
     "output_type": "stream",
     "text": [
      "Enter First Number: 24\n",
      "Enter Second Number: 56\n",
      "Before swapping:  24 56\n",
      "After swapping:  56 24\n"
     ]
    }
   ],
   "source": [
    "num = int(input(\"Enter First Number: \"))\n",
    "num2 = int(input(\"Enter Second Number: \"))\n",
    "\n",
    "def swapNumbers(a,b):\n",
    "    temp = a\n",
    "    a = b\n",
    "    b = temp\n",
    "    return a,b\n",
    "\n",
    "print('Before swapping: ',num, num2)\n",
    "num, num2 = swapNumbers(num, num2)\n",
    "print('After swapping: ',num,num2)"
   ]
  },
  {
   "cell_type": "markdown",
   "id": "35218f56",
   "metadata": {},
   "source": [
    "**Q5.Write a Python program to generate a random number ?**"
   ]
  },
  {
   "cell_type": "code",
   "execution_count": 8,
   "id": "b5628b7c",
   "metadata": {},
   "outputs": [
    {
     "name": "stdout",
     "output_type": "stream",
     "text": [
      "Random number:  86329\n",
      "Random number:  61\n"
     ]
    }
   ],
   "source": [
    "from random import randint\n",
    "\n",
    "def getRandom(start=0, end=100000):\n",
    "    print('Random number: ',randint(start,end))\n",
    "\n",
    "#Random numbers without arguments    \n",
    "getRandom()\n",
    "\n",
    "#Random numbers with arguments    \n",
    "getRandom(0,100)"
   ]
  }
 ],
 "metadata": {
  "kernelspec": {
   "display_name": "Python 3 (ipykernel)",
   "language": "python",
   "name": "python3"
  },
  "language_info": {
   "codemirror_mode": {
    "name": "ipython",
    "version": 3
   },
   "file_extension": ".py",
   "mimetype": "text/x-python",
   "name": "python",
   "nbconvert_exporter": "python",
   "pygments_lexer": "ipython3",
   "version": "3.9.7"
  }
 },
 "nbformat": 4,
 "nbformat_minor": 5
}
