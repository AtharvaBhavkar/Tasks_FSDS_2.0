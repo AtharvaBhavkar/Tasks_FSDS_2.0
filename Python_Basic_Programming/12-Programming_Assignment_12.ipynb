{
 "cells": [
  {
   "cell_type": "markdown",
   "id": "6b1924dc",
   "metadata": {},
   "source": [
    "# Programming Assignment 12"
   ]
  },
  {
   "cell_type": "markdown",
   "id": "ab22b193",
   "metadata": {},
   "source": [
    "**Q1.Write a Python program to Extract Unique values dictionary values?**"
   ]
  },
  {
   "cell_type": "code",
   "execution_count": 1,
   "id": "6d519acc",
   "metadata": {},
   "outputs": [
    {
     "name": "stdout",
     "output_type": "stream",
     "text": [
      "['Rishikesh', 'Badrinath', 'Gangotri', 'Yamunotri', 'Kedarnath', 'Tirupati', 'Kedarnath']\n",
      "Unique Values: {'Kedarnath', 'Rishikesh', 'Gangotri', 'Yamunotri', 'Badrinath', 'Tirupati'}\n"
     ]
    }
   ],
   "source": [
    "d = {1:'Rishikesh',2:'Badrinath',3:'Gangotri',4:'Yamunotri',5:'Kedarnath',6:'Tirupati',7:'Kedarnath'}\n",
    "ls = list(d.values())\n",
    "print(ls)\n",
    "print(f'Unique Values: {(set(ls))}')"
   ]
  },
  {
   "cell_type": "markdown",
   "id": "08dfeec9",
   "metadata": {},
   "source": [
    "**Q2.Write a Python program to find the sum of all items in a dictionary?**"
   ]
  },
  {
   "cell_type": "code",
   "execution_count": 2,
   "id": "b4c0ba07",
   "metadata": {},
   "outputs": [
    {
     "name": "stdout",
     "output_type": "stream",
     "text": [
      "Sum of All items: 50000\n"
     ]
    }
   ],
   "source": [
    "d = {'TV':10000,'Washing Machine':25000,'Geyser':5000,'Oven':10000}\n",
    "print('Sum of All items:',sum(d.values()))"
   ]
  },
  {
   "cell_type": "markdown",
   "id": "17a5406d",
   "metadata": {},
   "source": [
    "**Q3.Write a Python program to Merging two Dictionaries?**"
   ]
  },
  {
   "cell_type": "code",
   "execution_count": 3,
   "id": "040b908d",
   "metadata": {},
   "outputs": [
    {
     "name": "stdout",
     "output_type": "stream",
     "text": [
      "{'Comp': 'HOD', 'EnTC': ['HOD', 'Assistant']}\n"
     ]
    }
   ],
   "source": [
    "d1 = {\n",
    "    'Comp':'HOD'\n",
    "}\n",
    "d2 = {\n",
    "    'EnTC':['HOD','Assistant']\n",
    "}\n",
    "d1.update(d2)\n",
    "print(d1)"
   ]
  },
  {
   "cell_type": "markdown",
   "id": "2a11352b",
   "metadata": {},
   "source": [
    "**Q4.Write a Python program to convert key-values list to flat dictionary?**"
   ]
  },
  {
   "cell_type": "code",
   "execution_count": 4,
   "id": "942a8fbc",
   "metadata": {},
   "outputs": [
    {
     "name": "stdout",
     "output_type": "stream",
     "text": [
      "{'A': 10, 'B': 20, 'C': 30, 'D': 40, 'E': 50, 'F': 60, 'G': 70, 'H': 80, 'I': 90, 'J': 100}\n"
     ]
    }
   ],
   "source": [
    "in_list = [('A',10),('B',20),('C',30),('D',40),('E',50),('F',60),('G',70),('H',80),('I',90),('J',100)]\n",
    "\n",
    "# Method #1\n",
    "dict(in_list)\n",
    "\n",
    "# Method #2\n",
    "d = {}\n",
    "for ele in in_list:\n",
    "    d[ele[0]] = ele[1]\n",
    "print(d)"
   ]
  },
  {
   "cell_type": "markdown",
   "id": "cc89930c",
   "metadata": {},
   "source": [
    "**Q5.Write a Python program to insertion at the beginning in OrderedDict?**"
   ]
  },
  {
   "cell_type": "code",
   "execution_count": 5,
   "id": "964654a5",
   "metadata": {},
   "outputs": [
    {
     "name": "stdout",
     "output_type": "stream",
     "text": [
      "dict_one OrderedDict([('Apple', 'Iphone'), ('Microsoft', 'Windows'), ('Google', 'chrome')])\n",
      "dict_one OrderedDict([('Apple', 'Iphone'), ('Microsoft', 'Windows'), ('Google', 'chrome'), ('Tesla', 'SpaceX')])\n",
      "dict_one OrderedDict([('Tesla', 'SpaceX'), ('Apple', 'Iphone'), ('Microsoft', 'Windows'), ('Google', 'chrome')])\n"
     ]
    }
   ],
   "source": [
    "from collections import OrderedDict\n",
    "dict_one = OrderedDict({'Apple':'Iphone','Microsoft':'Windows','Google':'chrome'})\n",
    "print('dict_one',dict_one)\n",
    "dict_two = {'Tesla':'SpaceX'}\n",
    "dict_one.update(dict_two)\n",
    "print('dict_one',dict_one)\n",
    "dict_one.move_to_end('Tesla',last=False)\n",
    "print('dict_one',dict_one)"
   ]
  },
  {
   "cell_type": "markdown",
   "id": "e1191f6a",
   "metadata": {},
   "source": [
    "**Q6.Write a Python program to check order of character in string using OrderedDict()?**"
   ]
  },
  {
   "cell_type": "code",
   "execution_count": 6,
   "id": "b5673d63",
   "metadata": {},
   "outputs": [
    {
     "name": "stdout",
     "output_type": "stream",
     "text": [
      "{'a': 1000, 'f': 200, 'd': 300, 'c': 400, 'b': 500, 'e': 600}\n",
      "OrderedDict([('a', 1000), ('b', 500), ('c', 400), ('d', 300), ('e', 600), ('f', 200)])\n"
     ]
    }
   ],
   "source": [
    "from collections import OrderedDict\n",
    "\n",
    "initial_list = {'a': 1000, 'f': 200, 'd': 300, 'c': 400, 'b': 500, 'e': 600}\n",
    "print(initial_list)\n",
    "final_list = OrderedDict(dict(sorted(initial_list.items())))\n",
    "print(final_list)"
   ]
  },
  {
   "cell_type": "markdown",
   "id": "2780a498",
   "metadata": {},
   "source": [
    "**Q7.Write a Python program to sort Python Dictionaries by Key or Value?**"
   ]
  },
  {
   "cell_type": "code",
   "execution_count": 7,
   "id": "807cd3d8",
   "metadata": {},
   "outputs": [
    {
     "name": "stdout",
     "output_type": "stream",
     "text": [
      "{'Banana': 60, 'Grape': 13, 'Mango': 100, 'PineApple': 22}\n",
      "{'Grape': 13, 'PineApple': 22, 'Banana': 60, 'Mango': 100}\n"
     ]
    }
   ],
   "source": [
    "d_items = {'Mango':100,'PineApple':22,'Banana':60,'Grape':13}\n",
    "\n",
    "def sort_dict(d,sort_type):\n",
    "    if sort_type == 'key':\n",
    "        print(dict(sorted(d.items(), key=lambda x:x[0], reverse=False)))\n",
    "    else:\n",
    "        print(dict(sorted(d.items(), key=lambda x:x[1], reverse=False)))\n",
    "        \n",
    "sort_dict(d_items,'key')        \n",
    "sort_dict(d_items,'value')"
   ]
  }
 ],
 "metadata": {
  "kernelspec": {
   "display_name": "Python 3 (ipykernel)",
   "language": "python",
   "name": "python3"
  },
  "language_info": {
   "codemirror_mode": {
    "name": "ipython",
    "version": 3
   },
   "file_extension": ".py",
   "mimetype": "text/x-python",
   "name": "python",
   "nbconvert_exporter": "python",
   "pygments_lexer": "ipython3",
   "version": "3.9.7"
  }
 },
 "nbformat": 4,
 "nbformat_minor": 5
}
