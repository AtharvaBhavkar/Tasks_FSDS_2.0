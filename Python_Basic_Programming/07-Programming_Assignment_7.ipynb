{
 "cells": [
  {
   "cell_type": "markdown",
   "id": "b5b5411a",
   "metadata": {},
   "source": [
    "# Programming Assignment 7"
   ]
  },
  {
   "cell_type": "markdown",
   "id": "ce84f455",
   "metadata": {},
   "source": [
    "**Q1. Write a Python Program to find sum of Array ?**"
   ]
  },
  {
   "cell_type": "code",
   "execution_count": 1,
   "id": "42895003",
   "metadata": {},
   "outputs": [
    {
     "name": "stdout",
     "output_type": "stream",
     "text": [
      "Enter the Array: [3,2,4,21,35]\n",
      "The sum of [3, 2, 4, 21, 35] is 65\n"
     ]
    }
   ],
   "source": [
    "def sumOfArray():\n",
    "    in_arr = eval(input(\"Enter the Array: \"))\n",
    "    print(f'The sum of {in_arr} is {sum(in_arr)}')\n",
    "\n",
    "sumOfArray()"
   ]
  },
  {
   "cell_type": "markdown",
   "id": "cfb3261b",
   "metadata": {},
   "source": [
    "**Q2. Write a Python Program to find Largest element in an Array ?**"
   ]
  },
  {
   "cell_type": "code",
   "execution_count": 2,
   "id": "dde32e29",
   "metadata": {},
   "outputs": [
    {
     "name": "stdout",
     "output_type": "stream",
     "text": [
      "Enter the Array: [2,4,7,3,1,8]\n",
      "The Largest Element in [2, 4, 7, 3, 1, 8] is 8\n"
     ]
    }
   ],
   "source": [
    "def largestElement():\n",
    "    in_arr = eval(input(\"Enter the Array: \"))\n",
    "    print(f\"The Largest Element in {in_arr} is {sorted(in_arr, reverse=True)[0]}\")\n",
    "largestElement()"
   ]
  },
  {
   "cell_type": "markdown",
   "id": "868d87b9",
   "metadata": {},
   "source": [
    "**Q3. Write a Python Program for array rotation ?**"
   ]
  },
  {
   "cell_type": "code",
   "execution_count": 3,
   "id": "4138c19e",
   "metadata": {},
   "outputs": [
    {
     "name": "stdout",
     "output_type": "stream",
     "text": [
      "Enter the Array: [1,4,5,12,3,2]\n",
      "The Reverse of Array [1, 4, 5, 12, 3, 2] is [2, 3, 12, 5, 4, 1]\n"
     ]
    }
   ],
   "source": [
    "def reverseOfArray():\n",
    "    in_arr = eval(input(\"Enter the Array: \"))\n",
    "    print(f\"The Reverse of Array {in_arr} is {in_arr[::-1]}\")\n",
    "    \n",
    "reverseOfArray()"
   ]
  },
  {
   "cell_type": "markdown",
   "id": "ac27a642",
   "metadata": {},
   "source": [
    "**Q4. Write a Python Program to Split the array and add the first part to the end ?**"
   ]
  },
  {
   "cell_type": "code",
   "execution_count": 4,
   "id": "2752263f",
   "metadata": {},
   "outputs": [
    {
     "name": "stdout",
     "output_type": "stream",
     "text": [
      "Enter the Array: [1,3,4,5,6,7]\n",
      "5 6 7 1 3 4 "
     ]
    }
   ],
   "source": [
    "def splitToend():\n",
    "    a = eval(input(\"Enter the Array: \"))\n",
    "    k = int(len(a)/2)\n",
    "    b = a[:k]\n",
    "    return (a[k::]+b[::])\n",
    "\n",
    "arr = splitToend()\n",
    "for i in range(0, len(arr)):\n",
    "    print(arr[i], end=' ')"
   ]
  },
  {
   "cell_type": "markdown",
   "id": "e44dd880",
   "metadata": {},
   "source": [
    "**Q5. Write a Python Program to check if given array is Monotonic ?**"
   ]
  },
  {
   "cell_type": "code",
   "execution_count": 5,
   "id": "368a1a27",
   "metadata": {},
   "outputs": [
    {
     "name": "stdout",
     "output_type": "stream",
     "text": [
      "Enter the Array: [1,3,4,5,6,7]\n",
      "Array [1, 3, 4, 5, 6, 7] is Monotonic\n",
      "Enter the Array: [1,3,4,5,6,7,2]\n",
      "Array [1, 3, 4, 5, 6, 7, 2] is Not Monotonic\n"
     ]
    }
   ],
   "source": [
    "def checkMonotonic():\n",
    "    in_arr = eval(input(\"Enter the Array: \"))\n",
    "    if(all(in_arr[i]<=in_arr[i+1] for i in range(len(in_arr)-1)) or all(in_arr[i]>=in_arr[i+1] for i in range(len(in_arr)-1))):\n",
    "        print(f'Array {in_arr} is Monotonic')\n",
    "    else:\n",
    "        print(f'Array {in_arr} is Not Monotonic')\n",
    "\n",
    "checkMonotonic()\n",
    "checkMonotonic()"
   ]
  }
 ],
 "metadata": {
  "kernelspec": {
   "display_name": "Python 3 (ipykernel)",
   "language": "python",
   "name": "python3"
  },
  "language_info": {
   "codemirror_mode": {
    "name": "ipython",
    "version": 3
   },
   "file_extension": ".py",
   "mimetype": "text/x-python",
   "name": "python",
   "nbconvert_exporter": "python",
   "pygments_lexer": "ipython3",
   "version": "3.9.7"
  }
 },
 "nbformat": 4,
 "nbformat_minor": 5
}
