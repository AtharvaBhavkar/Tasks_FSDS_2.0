{
 "cells": [
  {
   "cell_type": "markdown",
   "id": "f6ae3daa",
   "metadata": {},
   "source": [
    "# Programming Assignment 5"
   ]
  },
  {
   "cell_type": "markdown",
   "id": "0e0657ef",
   "metadata": {},
   "source": [
    "**Q1. Write a Python Program to find LCM ?**"
   ]
  },
  {
   "cell_type": "code",
   "execution_count": 14,
   "id": "195b6477",
   "metadata": {},
   "outputs": [
    {
     "name": "stdout",
     "output_type": "stream",
     "text": [
      "The LCM of 12,3 is 12\n",
      "The LCM of 15,27 is 135\n",
      "The LCM of 2,10 is 10\n"
     ]
    }
   ],
   "source": [
    "def findTheLcm(x,y):\n",
    "    if x > y:\n",
    "        greater = x\n",
    "    else:\n",
    "        greater = x\n",
    "    while True:\n",
    "        if((greater%x == 0) and (greater%y == 0)):\n",
    "            lcm = greater\n",
    "            break\n",
    "        else:\n",
    "            greater +=1\n",
    "    print(f'The LCM of {x},{y} is {lcm}')\n",
    "\n",
    "findTheLcm(12,3)\n",
    "findTheLcm(15,27)\n",
    "findTheLcm(2,10)"
   ]
  },
  {
   "cell_type": "markdown",
   "id": "3932f267",
   "metadata": {},
   "source": [
    "**Q2. Write a Python Program to find HCF ?**"
   ]
  },
  {
   "cell_type": "code",
   "execution_count": 19,
   "id": "4f1cc0d1",
   "metadata": {},
   "outputs": [
    {
     "name": "stdout",
     "output_type": "stream",
     "text": [
      "The HCF of 32,8 is 8\n",
      "The HCF of 4,90 is 2\n",
      "The HCF of 100,12 is 4\n"
     ]
    }
   ],
   "source": [
    "def findTheHcf(x,y):\n",
    "    if x>y:\n",
    "        smaller = y\n",
    "    else:\n",
    "        smaller = x\n",
    "    for ele in range(1,smaller+1):\n",
    "        if((x%ele == 0) and (y%ele == 0)):\n",
    "            hcf = ele\n",
    "    print(f'The HCF of {x},{y} is {hcf}')\n",
    "\n",
    "findTheHcf(32,8)\n",
    "findTheHcf(4,90)\n",
    "findTheHcf(100,12)"
   ]
  },
  {
   "cell_type": "markdown",
   "id": "58e0eea5",
   "metadata": {},
   "source": [
    "**Q3. Write a Python Program to Convert Decimal to Binary, Octal and Hexadecimal ?**"
   ]
  },
  {
   "cell_type": "code",
   "execution_count": 20,
   "id": "3b1a7d73",
   "metadata": {},
   "outputs": [
    {
     "name": "stdout",
     "output_type": "stream",
     "text": [
      "Enter a Number: 17\n",
      "Binary Number: 0b10001\n",
      "Octal Number: 0o21\n",
      "Hexadecimal Number: 0x11\n"
     ]
    }
   ],
   "source": [
    "def DecimalToOther():\n",
    "    num = int(input('Enter a Number: '))\n",
    "    print(f'Binary Number: {bin(num)}')\n",
    "    print(f'Octal Number: {oct(num)}')    \n",
    "    print(f'Hexadecimal Number: {hex(num)}')    \n",
    "\n",
    "DecimalToOther()"
   ]
  },
  {
   "cell_type": "markdown",
   "id": "f8773b36",
   "metadata": {},
   "source": [
    "**Q4. Write a Python Program to Find the ASCII value of a Character ?**"
   ]
  },
  {
   "cell_type": "code",
   "execution_count": 21,
   "id": "4e149f76",
   "metadata": {},
   "outputs": [
    {
     "name": "stdout",
     "output_type": "stream",
     "text": [
      "Enter a Character: a\n",
      "Ascii Character of a is 97\n"
     ]
    }
   ],
   "source": [
    "def charToAscii():\n",
    "    char = input('Enter a Character: ')\n",
    "    if len(char) > 1:\n",
    "        print('Please Enter a Single Character')\n",
    "    else:\n",
    "        print(f'Ascii Character of {char} is {ord(char)}')\n",
    "\n",
    "charToAscii()"
   ]
  },
  {
   "cell_type": "markdown",
   "id": "14fbb386",
   "metadata": {},
   "source": [
    "**Q5. Write a Python Program to Make a Simple Calculator with 4 Basic Mathematical operations ?**"
   ]
  },
  {
   "cell_type": "code",
   "execution_count": 22,
   "id": "b7dac109",
   "metadata": {},
   "outputs": [
    {
     "name": "stdout",
     "output_type": "stream",
     "text": [
      "{1: '+', 2: '-', 3: '*', 4: '/'}\n",
      " Operations\n",
      "        \n",
      "1.Addition(+)        \n",
      "2.Subtraction(-)        \n",
      "3.Multiplication(*)        \n",
      "4.Division(/)        \n",
      "5.Stop\n",
      "\n",
      "Enter Arithmetic Operation (by number): 32\n",
      "Please enter correct number\n",
      "Enter Arithmetic Operation (by number): 2\n",
      "Enter number 1: 23\n",
      "Enter number 2: 2\n",
      "Result of 23.0-2.0 is  21.0\n",
      "Enter Arithmetic Operation (by number): 3\n",
      "Enter number 1: 24\n",
      "Enter number 2: 5\n",
      "Result of 24.0*5.0 is  120.0\n",
      "Enter Arithmetic Operation (by number): 4\n",
      "Enter number 1: 98\n",
      "Enter number 2: 2\n",
      "Result of 98.0/2.0 is  49.0\n",
      "Enter Arithmetic Operation (by number): 5\n",
      "Program Stopped successfully\n"
     ]
    }
   ],
   "source": [
    "ops = {1:\"+\",2:\"-\",3:\"*\",4:\"/\"} \n",
    "print(ops)\n",
    "print(' Operations\\n\\\n",
    "        \\n1.Addition(+)\\\n",
    "        \\n2.Subtraction(-)\\\n",
    "        \\n3.Multiplication(*)\\\n",
    "        \\n4.Division(/)\\\n",
    "        \\n5.Stop\\n')\n",
    "\n",
    "while True:\n",
    "    inp = int(input('Enter Arithmetic Operation (by number): '))  \n",
    "    if inp == 5:\n",
    "        print(\"Program Stopped successfully\")\n",
    "        break\n",
    "    if inp not in ops:\n",
    "        print(\"Please enter correct number\")\n",
    "        continue\n",
    "    elif inp in ops:\n",
    "        n1 = float(input(\"Enter number 1: \"))\n",
    "        n2 = float(input(\"Enter number 2: \"))\n",
    "        print(f\"Result of {n1}{ops[inp]}{n2} is \",eval(str(str(n1)+ops[inp]+str(n2))))  \n",
    "    else:\n",
    "        print(\"Program terminated unexpectedly due to bad input\")\n",
    "        break"
   ]
  }
 ],
 "metadata": {
  "kernelspec": {
   "display_name": "Python 3 (ipykernel)",
   "language": "python",
   "name": "python3"
  },
  "language_info": {
   "codemirror_mode": {
    "name": "ipython",
    "version": 3
   },
   "file_extension": ".py",
   "mimetype": "text/x-python",
   "name": "python",
   "nbconvert_exporter": "python",
   "pygments_lexer": "ipython3",
   "version": "3.9.7"
  }
 },
 "nbformat": 4,
 "nbformat_minor": 5
}
