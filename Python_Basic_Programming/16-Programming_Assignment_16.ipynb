{
 "cells": [
  {
   "cell_type": "markdown",
   "id": "985995e7",
   "metadata": {},
   "source": [
    "# Programming Assignment 16"
   ]
  },
  {
   "cell_type": "markdown",
   "id": "ca1cf79e",
   "metadata": {},
   "source": [
    "**Q1.Write a function that stutters a word as if someone is struggling to read it. The first two letters are repeated twice with an ellipsis ... and space after each, and then the word is pronounced with a question mark ?**\n",
    "\n",
    "**Examples:** <br>stutter(\"incredible\") ➞ \"in... in... incredible?\"<br>\n",
    "stutter(\"enthusiastic\") ➞ \"en... en... enthusiastic?\"<br>\n",
    "stutter(\"outstanding\") ➞ \"ou... ou... outstanding?\"<br>\n",
    "\n",
    "Hint :- Assume all input is in lower case and at least two characters long."
   ]
  },
  {
   "cell_type": "code",
   "execution_count": 1,
   "id": "4f43eb6a",
   "metadata": {},
   "outputs": [
    {
     "name": "stdout",
     "output_type": "stream",
     "text": [
      "Enter no. of words: 3\n",
      "Enter the Word :incredible\n",
      "incredible ➞ in... in... incredible?\n",
      "Enter the Word :enthusiastic\n",
      "enthusiastic ➞ en... en... enthusiastic?\n",
      "Enter the Word :outstanding\n",
      "outstanding ➞ ou... ou... outstanding?\n"
     ]
    }
   ],
   "source": [
    "def stutter(inp):\n",
    "    out = inp.replace(inp[0:2],((inp[0:2]+'... ')*2)+ inp[0:2])  +'?'\n",
    "    print(f'{inp} ➞ {out}')\n",
    "n = int(input(\"Enter no. of words: \"))\n",
    "for i in range(n):\n",
    "    inp = input('Enter the Word :')\n",
    "    stutter(inp)"
   ]
  },
  {
   "cell_type": "markdown",
   "id": "92dfb4e0",
   "metadata": {},
   "source": [
    "**Q2.Create a function that takes an angle in radians and returns the corresponding angle in degrees rounded to one decimal place ?**\n",
    "\n",
    "**Examples:** <br>radians_to_degrees(1) ➞ 57.3<br>\n",
    "radians_to_degrees(20) ➞ 1145.9<br>\n",
    "radians_to_degrees(50) ➞ 2864.8"
   ]
  },
  {
   "cell_type": "code",
   "execution_count": 3,
   "id": "ed6b03df",
   "metadata": {},
   "outputs": [
    {
     "name": "stdout",
     "output_type": "stream",
     "text": [
      "How many? -> 3\n",
      "Enter the value to be converted: 1\n",
      "1.0 radian(s) ➞ 57.3 degrees\n",
      "Enter the value to be converted: 20\n",
      "20.0 radian(s) ➞ 1145.9 degrees\n",
      "Enter the value to be converted: 50\n",
      "50.0 radian(s) ➞ 2864.8 degrees\n"
     ]
    }
   ],
   "source": [
    "import math\n",
    "def conv(in_num):\n",
    "    out_num = (180/math.pi)*in_num\n",
    "    print(f'{in_num} radian(s) ➞ {out_num:.1f} degrees')\n",
    "n = int(input(\"How many? -> \"))\n",
    "for x in range(n):\n",
    "    inp = float(input(\"Enter the value to be converted: \"))\n",
    "    conv(inp)"
   ]
  },
  {
   "cell_type": "markdown",
   "id": "163e2611",
   "metadata": {},
   "source": [
    "**Q3.In this challenge, establish if a given integer num is a Curzon number. If 1 plus 2 elevated to num is exactly divisible by 1 plus 2 multiplied by num, then num is a Curzon number.** \n",
    "\n",
    "Given a non-negative integer num, implement a function that returns True if num is a Curzon number, or False otherwise.\n",
    "\n",
    "**Examples:** \n",
    "\n",
    "is_curzon(5) ➞ True # 2 ** 5 + 1 = 33 # 2 * 5 + 1 = 11 # 33 is a multiple of 11 <br>\n",
    "is_curzon(10) ➞ False # 2 ** 10 + 1 = 1025 # 2 * 10 + 1 = 21 # 1025 is not a multiple of 21 <br>\n",
    "is_curzon(14) ➞ True # 2 ** 14 + 1 = 16385 # 2 * 14 + 1 = 29 # 16385 is a multiple of 29"
   ]
  },
  {
   "cell_type": "code",
   "execution_count": 4,
   "id": "b8cc731b",
   "metadata": {},
   "outputs": [
    {
     "name": "stdout",
     "output_type": "stream",
     "text": [
      "How many? -> 3\n",
      "Enter value to be checked: 5\n",
      "5 is a Curzon Number\n",
      "Enter value to be checked: 10\n",
      "10 is Not a Curzon Number\n",
      "Enter value to be checked: 14\n",
      "14 is a Curzon Number\n"
     ]
    }
   ],
   "source": [
    "def Curzon(in_num):\n",
    "    if (pow(2,in_num)+1)%((2*in_num)+1) == 0:\n",
    "        print(f'{in_num} is a Curzon Number')\n",
    "    else:\n",
    "        print(f'{in_num} is Not a Curzon Number')\n",
    "\n",
    "n = int(input(\"How many? -> \"))\n",
    "for x in range(n):\n",
    "    inp = int(input(\"Enter value to be checked: \"))\n",
    "    Curzon(inp)"
   ]
  },
  {
   "cell_type": "markdown",
   "id": "d841075b",
   "metadata": {},
   "source": [
    "**Q4.Given the side length x find the area of a hexagon.**\n",
    "\n",
    "**Examples:** <br>area_of_hexagon(1) ➞ 2.6<br>\n",
    "area_of_hexagon(2) ➞ 10.4<br>\n",
    "area_of_hexagon(3) ➞ 23.4<br>"
   ]
  },
  {
   "cell_type": "code",
   "execution_count": 5,
   "id": "855edb97",
   "metadata": {},
   "outputs": [
    {
     "name": "stdout",
     "output_type": "stream",
     "text": [
      "How many? -> 3\n",
      "Enter side: 1\n",
      "Area for Hexagon of sidelength 1.0 ➞ 2.6\n",
      "Enter side: 2\n",
      "Area for Hexagon of sidelength 2.0 ➞ 10.4\n",
      "Enter side: 3\n",
      "Area for Hexagon of sidelength 3.0 ➞ 23.4\n"
     ]
    }
   ],
   "source": [
    "import math\n",
    "def area(in_num):\n",
    "    out_num = ((3*math.sqrt(3))/2)*(pow(in_num,2))\n",
    "    print(f'Area for Hexagon of sidelength {in_num} ➞ {out_num:.1f}')\n",
    "\n",
    "n = int(input(\"How many? -> \"))\n",
    "for x in range(n):\n",
    "    inp = float(input(\"Enter side: \"))\n",
    "    area(inp)"
   ]
  },
  {
   "cell_type": "markdown",
   "id": "ae74ae20",
   "metadata": {},
   "source": [
    "**Q5.Create a function that returns a base-2 (binary) representation of a base-10 (decimal) string number. To convert is simple:**\n",
    "\n",
    "((2) means base-2 and (10) means base-10)\n",
    "010101001(2) = 1 + 8 + 32 + 128.\n",
    "Going from right to left, the value of the most right bit is 1, now from that every bit to the left will be x2 the value, value of an 8 bit binary numbers are (256, 128, 64, 32, 16, 8, 4, 2, 1).\n",
    "\n",
    "**Examples:**<br>\n",
    "binary(1) ➞ \"1\" # 1* 1 = 1<br>\n",
    "binary(5) ➞ \"101\" # 1 1 + 1 4 = 5 <br>\n",
    "binary(10) ➞ \"1010\" # 1 2 + 1 8 = 10"
   ]
  },
  {
   "cell_type": "code",
   "execution_count": 6,
   "id": "5f757faa",
   "metadata": {},
   "outputs": [
    {
     "name": "stdout",
     "output_type": "stream",
     "text": [
      "How many? -> 3\n",
      "Enter value: 1\n",
      "Binary of 1 ➞ 1\n",
      "Enter value: 5\n",
      "Binary of 5 ➞ 101\n",
      "Enter value: 10\n",
      "Binary of 10 ➞ 1010\n"
     ]
    }
   ],
   "source": [
    "def binary(in_num):\n",
    "    out_num = bin(in_num).replace('0b','') \n",
    "    print(f'Binary of {in_num} ➞ {out_num}')\n",
    "\n",
    "n = int(input(\"How many? -> \"))\n",
    "for x in range(n):\n",
    "    inp = int(input(\"Enter value: \"))\n",
    "    binary(inp)"
   ]
  }
 ],
 "metadata": {
  "kernelspec": {
   "display_name": "Python 3 (ipykernel)",
   "language": "python",
   "name": "python3"
  },
  "language_info": {
   "codemirror_mode": {
    "name": "ipython",
    "version": 3
   },
   "file_extension": ".py",
   "mimetype": "text/x-python",
   "name": "python",
   "nbconvert_exporter": "python",
   "pygments_lexer": "ipython3",
   "version": "3.9.7"
  }
 },
 "nbformat": 4,
 "nbformat_minor": 5
}
