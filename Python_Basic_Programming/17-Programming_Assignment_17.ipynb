{
 "cells": [
  {
   "cell_type": "markdown",
   "id": "0eaae93e",
   "metadata": {},
   "source": [
    "# Programming Assignment 17"
   ]
  },
  {
   "cell_type": "markdown",
   "id": "e876c3d9",
   "metadata": {},
   "source": [
    "**Q1.Create a function that takes three arguments a, b, c and returns the sum of the numbers that are evenly divided by c from the range a, b inclusive ?**\n",
    "\n",
    "**Examples:**<br>\n",
    "evenly_divisible(1, 10, 20) ➞ 0 <br># No number between 1 and 10 can be evenly divided by 20.<br> evenly_divisible(1, 10, 2) ➞ 30 <br># 2 + 4 + 6 + 8 + 10 = 30 <br>evenly_divisible(1, 10, 3) ➞ 18 <br># 3 + 6 + 9 = 18"
   ]
  },
  {
   "cell_type": "code",
   "execution_count": 1,
   "id": "387f47f9",
   "metadata": {},
   "outputs": [
    {
     "name": "stdout",
     "output_type": "stream",
     "text": [
      "(1, 10, 20) ➞ 0\n",
      "(1, 10, 2) ➞ 30\n",
      "(1, 10, 3) ➞ 18\n"
     ]
    }
   ],
   "source": [
    "def sumDivisible(a,b,c):\n",
    "    divList = []\n",
    "    for num in range(a,b+1):\n",
    "        if num%c == 0:\n",
    "            divList.append(num)\n",
    "    print(f'{a,b,c} ➞ {sum(divList)}')\n",
    "\n",
    "sumDivisible(1,10,20)\n",
    "sumDivisible(1,10,2)\n",
    "sumDivisible(1,10,3)"
   ]
  },
  {
   "cell_type": "markdown",
   "id": "e67ddf66",
   "metadata": {},
   "source": [
    "**Q2.Create a function that returns True if a given inequality expression is correct and False otherwise ?**\n",
    "\n",
    "**Examples:**<br>\n",
    "correct_signs(\"3 < 7 < 11\") ➞ True<br>\n",
    "correct_signs(\"13 > 44 > 33 > 1\") ➞ False<br>\n",
    "correct_signs(\"1 < 2 < 6 < 9 > 3\") ➞ True<br>"
   ]
  },
  {
   "cell_type": "code",
   "execution_count": 3,
   "id": "fba90f13",
   "metadata": {},
   "outputs": [
    {
     "name": "stdout",
     "output_type": "stream",
     "text": [
      "How many? ->3\n",
      "Enter the inequality: 3 < 7 < 11\n",
      "3 < 7 < 11 ➞ True\n",
      "Enter the inequality: 13 > 44 > 33 > 1\n",
      "13 > 44 > 33 > 1 ➞ False\n",
      "Enter the inequality: 1 < 2 < 6 < 9 > 3\n",
      "1 < 2 < 6 < 9 > 3 ➞ True\n"
     ]
    }
   ],
   "source": [
    "def checkEquality(inp):\n",
    "    out_bool = eval(inp)\n",
    "    print(f'{inp} ➞ {out_bool}')\n",
    "\n",
    "n = int(input(\"How many? ->\"))\n",
    "for x in range(n):\n",
    "    inp = input('Enter the inequality: ')\n",
    "    checkEquality(inp)"
   ]
  },
  {
   "cell_type": "markdown",
   "id": "f43aca30",
   "metadata": {},
   "source": [
    "**Q3.Create a function that replaces all the vowels in a string with a specified character ?**\n",
    "\n",
    "**Examples:**<br>\n",
    "replace_vowels(\"the aardvark\", \"#\") ➞ \"th# ##rdv#rk\"<br>\n",
    "replace_vowels(\"minnie mouse\", \"?\") ➞ \"m?nn?? m??s?\"<br>\n",
    "replace_vowels(\"shakespeare\", \"*\") ➞ \"shksp**r\"<br>"
   ]
  },
  {
   "cell_type": "code",
   "execution_count": 5,
   "id": "0d922d3d",
   "metadata": {},
   "outputs": [
    {
     "name": "stdout",
     "output_type": "stream",
     "text": [
      "String: the aardvark\n",
      "Replacement character: #\n",
      "the aardvark # ➞ th# ##rdv#rk\n",
      "String: minnie mouse\n",
      "Replacement character: ?\n",
      "minnie mouse ? ➞ m?nn?? m??s?\n",
      "String: shakespeare\n",
      "Replacement character: *\n",
      "shakespeare * ➞ sh*k*sp**r*\n"
     ]
    }
   ],
   "source": [
    "def replaceVowels():\n",
    "    vowels = ['a','e','i','o','u','A','E','I','O','U']\n",
    "    in_string = input(\"String: \")\n",
    "    in_string_copy = in_string\n",
    "    in_char = input('Replacement character: ')\n",
    "    for ele in in_string:\n",
    "        if ele in vowels:\n",
    "            in_string = in_string.replace(ele,in_char)\n",
    "    print(f'{in_string_copy} {in_char} ➞ {in_string}')\n",
    "            \n",
    "for x in range(3):\n",
    "    replaceVowels()"
   ]
  },
  {
   "cell_type": "markdown",
   "id": "c6a36bb7",
   "metadata": {},
   "source": [
    "**Q4.Write a function that calculates the factorial of a number recursively ?**\n",
    "\n",
    "**Examples:**<br>\n",
    "factorial(5) ➞ 120<br>\n",
    "factorial(3) ➞ 6<br>\n",
    "factorial(1) ➞ 1<br>\n",
    "factorial(0) ➞ 1"
   ]
  },
  {
   "cell_type": "code",
   "execution_count": 7,
   "id": "33e3cf7b",
   "metadata": {},
   "outputs": [
    {
     "name": "stdout",
     "output_type": "stream",
     "text": [
      "factorial(5) ➞ 120\n",
      "factorial(3) ➞ 6\n",
      "factorial(1) ➞ 1\n",
      "factorial(0) ➞ 1\n"
     ]
    }
   ],
   "source": [
    "def factorial(n):\n",
    "    if n==0:\n",
    "        return 1\n",
    "    return n * factorial(n-1)\n",
    "\n",
    "print(f'factorial(5) ➞ {factorial(5)}')\n",
    "print(f'factorial(3) ➞ {factorial(3)}')\n",
    "print(f'factorial(1) ➞ {factorial(1)}')\n",
    "print(f'factorial(0) ➞ {factorial(0)}')"
   ]
  },
  {
   "cell_type": "markdown",
   "id": "d97e3e0f",
   "metadata": {},
   "source": [
    "**Q5.Hamming distance is the number of characters that differ between two strings ?**\n",
    "\n",
    "To illustrate:<br>\n",
    "String1: \"abcbba\"<br>\n",
    "String2: \"abcbda\"<br>\n",
    "Hamming Distance: 1 - \"b\" vs. \"d\" is the only difference.<br>\n",
    "\n",
    "Create a function that computes the hamming distance between two strings.<br>\n",
    "Examples:<br>\n",
    "hamming_distance(\"abcde\", \"bcdef\") ➞ 5<br>\n",
    "hamming_distance(\"abcde\", \"abcde\") ➞ 0<br>\n",
    "hamming_distance(\"strong\", \"strung\") ➞ 1"
   ]
  },
  {
   "cell_type": "code",
   "execution_count": 8,
   "id": "28f65e71",
   "metadata": {},
   "outputs": [
    {
     "name": "stdout",
     "output_type": "stream",
     "text": [
      "Enter the String_1: abcde\n",
      "Enter the String_2: bcdef\n",
      "Hamning Distance b/w abcde and bcdef ➞ 5\n",
      "Enter the String_1: abcde\n",
      "Enter the String_2: abcde\n",
      "Hamning Distance b/w abcde and abcde ➞ 0\n",
      "Enter the String_1: strong\n",
      "Enter the String_2: strung\n",
      "Hamning Distance b/w strong and strung ➞ 1\n"
     ]
    }
   ],
   "source": [
    "def genHamDistance():\n",
    "    s1 = input('Enter the String_1: ')\n",
    "    s2 = input('Enter the String_2: ')\n",
    "    if len(s1) == len(s2):\n",
    "        count = 0\n",
    "        for i in range(len(s1)):\n",
    "            if s1[i] != s2[i]:\n",
    "                count = count+1\n",
    "        print(f'Hamning Distance b/w {s1} and {s2} ➞ {count}')\n",
    "    else:\n",
    "        print('Both Strings Must be of Same Length')\n",
    "\n",
    "for x in range(3):\n",
    "    genHamDistance()"
   ]
  }
 ],
 "metadata": {
  "kernelspec": {
   "display_name": "Python 3 (ipykernel)",
   "language": "python",
   "name": "python3"
  },
  "language_info": {
   "codemirror_mode": {
    "name": "ipython",
    "version": 3
   },
   "file_extension": ".py",
   "mimetype": "text/x-python",
   "name": "python",
   "nbconvert_exporter": "python",
   "pygments_lexer": "ipython3",
   "version": "3.9.7"
  }
 },
 "nbformat": 4,
 "nbformat_minor": 5
}
