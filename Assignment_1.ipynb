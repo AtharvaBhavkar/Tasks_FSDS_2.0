{
 "cells": [
  {
   "cell_type": "markdown",
   "id": "d36059a2",
   "metadata": {},
   "source": [
    "# Assignment_1"
   ]
  },
  {
   "cell_type": "markdown",
   "id": "cc62c229",
   "metadata": {},
   "source": [
    "**Q1. In the below elements which of them are values or an expression? eg:- values can be integer or string and expressions will be mathematical operators.**\n",
    "- *\n",
    "- 'hello'\n",
    "- 87.8\n",
    "- +\n",
    "- / \n",
    "- 6 \n",
    "\n",
    "\n",
    "Answer: The elements like *,-,/,+ are expressions and 'hello',-87.8,6 are considered as values"
   ]
  },
  {
   "cell_type": "markdown",
   "id": "c0dea440",
   "metadata": {},
   "source": [
    "**Q2. What is the difference between string and variable?**\n",
    "\n",
    "Answer: A variable is the one where values can be stored (in a memory location) and string is a datatype and variables can be of string type. eg: In the code below, 'a' is a variable which stores a string type value in it."
   ]
  },
  {
   "cell_type": "code",
   "execution_count": 1,
   "id": "de8d2bc3",
   "metadata": {},
   "outputs": [
    {
     "name": "stdout",
     "output_type": "stream",
     "text": [
      "1472326935728 <class 'str'>\n"
     ]
    }
   ],
   "source": [
    "a='hello'\n",
    "print(id(a),type(a))"
   ]
  },
  {
   "cell_type": "markdown",
   "id": "7509782b",
   "metadata": {},
   "source": [
    "**Q3. Describe three different data types.**\n",
    "\n",
    "Answer: Data type simply means the type of value that is stored in a variable eg. integer, float, string, etc"
   ]
  },
  {
   "cell_type": "code",
   "execution_count": 2,
   "id": "81c4ad4a",
   "metadata": {},
   "outputs": [
    {
     "name": "stdout",
     "output_type": "stream",
     "text": [
      "<class 'int'>\n"
     ]
    }
   ],
   "source": [
    "#1 int refers to numeric value only like 5,-21 not having decimal point\n",
    "a=-23\n",
    "print(type(a))"
   ]
  },
  {
   "cell_type": "code",
   "execution_count": 3,
   "id": "ff8dd359",
   "metadata": {},
   "outputs": [
    {
     "name": "stdout",
     "output_type": "stream",
     "text": [
      "<class 'float'>\n"
     ]
    }
   ],
   "source": [
    "#2 float refers to a number having floating point value like 4.2,5.77,-34.33\n",
    "b=-35.346\n",
    "print(type(b))"
   ]
  },
  {
   "cell_type": "code",
   "execution_count": 5,
   "id": "10531649",
   "metadata": {},
   "outputs": [
    {
     "name": "stdout",
     "output_type": "stream",
     "text": [
      "<class 'str'>\n"
     ]
    }
   ],
   "source": [
    "#3 string refers to a sequence of characters that can have alphabets as well as numbers and is written in '' or \"\"\n",
    "c='abc@123'\n",
    "print(type(c))"
   ]
  },
  {
   "cell_type": "markdown",
   "id": "9bd6acc6",
   "metadata": {},
   "source": [
    "**Q4. What is an expression made up of? What do all expressions do?**\n",
    "\n",
    "Answer: An expression in mathematics is something like a = 3 + 4 * 5, similarly this expression is written in programming languages to calculate a particular value and evaluate results accordingly. An expression comprises of variables, operators, values, etc."
   ]
  },
  {
   "cell_type": "code",
   "execution_count": 6,
   "id": "37f4a178",
   "metadata": {},
   "outputs": [
    {
     "data": {
      "text/plain": [
       "348.0"
      ]
     },
     "execution_count": 6,
     "metadata": {},
     "output_type": "execute_result"
    }
   ],
   "source": [
    "348+23/3*0"
   ]
  },
  {
   "cell_type": "markdown",
   "id": "6c08ab79",
   "metadata": {},
   "source": [
    "**Q5. This assignment statements, like spam = 10. What is the difference between an expression and a statement?**\n",
    "\n",
    "Answer: A statement is a unit of code that has an effect, like creating a variable or displaying a value.When we type a statement, the interpreter executes it, which means that it does whatever the statement says. In general, statements don’t have values."
   ]
  },
  {
   "cell_type": "code",
   "execution_count": 7,
   "id": "ffd96718",
   "metadata": {},
   "outputs": [
    {
     "name": "stdout",
     "output_type": "stream",
     "text": [
      "Hello World !\n"
     ]
    }
   ],
   "source": [
    "#Example:\n",
    "42*14+0-28 # Is a Expression\n",
    "courseName = 'FSDS 2.0' # Is a Statement\n",
    "print(\"Hello World !\") # Is a Expression Statement"
   ]
  },
  {
   "cell_type": "markdown",
   "id": "0f3c9944",
   "metadata": {},
   "source": [
    "**Q6. After running the following code, what does the variable bacon contain?**\n",
    "\n",
    "bacon = 22\n",
    "\n",
    "bacon + 1\n",
    "\n",
    "Answer: It contains 22 only, as the 2nd expression is not stored again it bacon, it only displays 23 inline "
   ]
  },
  {
   "cell_type": "code",
   "execution_count": 8,
   "id": "c7813078",
   "metadata": {},
   "outputs": [
    {
     "data": {
      "text/plain": [
       "23"
      ]
     },
     "execution_count": 8,
     "metadata": {},
     "output_type": "execute_result"
    }
   ],
   "source": [
    "#Example\n",
    "bacon=22\n",
    "bacon+1"
   ]
  },
  {
   "cell_type": "code",
   "execution_count": 9,
   "id": "a27e4340",
   "metadata": {},
   "outputs": [
    {
     "name": "stdout",
     "output_type": "stream",
     "text": [
      "22\n"
     ]
    }
   ],
   "source": [
    "print(bacon)"
   ]
  },
  {
   "cell_type": "code",
   "execution_count": 10,
   "id": "4a3896d9",
   "metadata": {},
   "outputs": [
    {
     "data": {
      "text/plain": [
       "23"
      ]
     },
     "execution_count": 10,
     "metadata": {},
     "output_type": "execute_result"
    }
   ],
   "source": [
    "#if we want to increment bacon by 1 then we should write\n",
    "bacon = bacon + 1\n",
    "bacon"
   ]
  },
  {
   "cell_type": "markdown",
   "id": "b8d690bc",
   "metadata": {},
   "source": [
    "**Q7. What should the values of the following two terms be?**\n",
    "\n",
    "'spam' + 'spamspam'\n",
    "\n",
    "'spam'*3\n",
    "\n",
    "Answer: Both the expressions give the result as 'spamspamspam', but the main difference between them is that, first expression shows 'String Concatenation' whereas the second is 'String Multiplication'\n",
    "\n"
   ]
  },
  {
   "cell_type": "code",
   "execution_count": 12,
   "id": "0a72fd15",
   "metadata": {},
   "outputs": [
    {
     "name": "stdout",
     "output_type": "stream",
     "text": [
      "spamspamspam\n",
      "spamspamspam\n"
     ]
    }
   ],
   "source": [
    "print('spam'+'spamspam')\n",
    "print('spam'*3)"
   ]
  },
  {
   "cell_type": "markdown",
   "id": "e5da95af",
   "metadata": {},
   "source": [
    "**Q8. Why is eggs a valid variable name while 100 is invalid?**\n",
    "\n",
    "Answer:As per python naming convention in python, variable names cannot begin with a number. The python rules for naming a variable are :-\n",
    "\n",
    "Variable name must start with a letter or the underscore character;\n",
    "Variable name can only contain alpha-numeric characters and underscores (A-z, 0-9, & _ );\n",
    "Variable names are case-sensitive (yash, YASH and Yash are three different variables);\n",
    "The reserved words(keywords) cannot be used naming the variable."
   ]
  },
  {
   "cell_type": "code",
   "execution_count": 13,
   "id": "9eb4a95e",
   "metadata": {},
   "outputs": [
    {
     "ename": "SyntaxError",
     "evalue": "cannot assign to literal (Temp/ipykernel_3272/204842674.py, line 2)",
     "output_type": "error",
     "traceback": [
      "\u001b[1;36m  File \u001b[1;32m\"C:\\Users\\ATHARV~1\\AppData\\Local\\Temp/ipykernel_3272/204842674.py\"\u001b[1;36m, line \u001b[1;32m2\u001b[0m\n\u001b[1;33m    100='hello' # Invalid Variable Initilization\u001b[0m\n\u001b[1;37m    ^\u001b[0m\n\u001b[1;31mSyntaxError\u001b[0m\u001b[1;31m:\u001b[0m cannot assign to literal\n"
     ]
    }
   ],
   "source": [
    "egg='Something' # Valid variable Initilization\n",
    "100='hello' # Invalid Variable Initilization\n",
    "print(egg) #prints the value of egg ie Ineuron\n",
    "print(100) # Raises a Syntax Error as 100 is not a valid variable name"
   ]
  },
  {
   "cell_type": "markdown",
   "id": "4949efcb",
   "metadata": {},
   "source": [
    "**Q9. What three functions can be used to get the integer, floating-point number, or string version of a value?**\n",
    "\n",
    "Answer: We can use inbuilt functions like int(),float() and str() for appropriate type conversion"
   ]
  },
  {
   "cell_type": "code",
   "execution_count": 15,
   "id": "f9279f50",
   "metadata": {},
   "outputs": [
    {
     "name": "stdout",
     "output_type": "stream",
     "text": [
      "int(10.0) ->  10\n",
      "float(10) ->  10.0\n",
      "str(10) ->  10\n"
     ]
    }
   ],
   "source": [
    "print('int(10.0) -> ',int(10.0)) # int() function converts given input to int\n",
    "print('float(10) -> ',float(10)) # float() function converts given input to float\n",
    "print('str(10) -> ',str(10)) # str() function converts given input to string"
   ]
  },
  {
   "cell_type": "markdown",
   "id": "994dd61b",
   "metadata": {},
   "source": [
    "**Q10. Why does this expression cause an error? How can you fix it?**\n",
    "\n",
    "'I have eaten ' + 99 + 'burritos.'\n",
    "\n",
    "Answer: Here the term 99 is written in integer form and so will give a typeError and has to be converted to string, with the help of str() function"
   ]
  },
  {
   "cell_type": "code",
   "execution_count": 17,
   "id": "4f4cc7d1",
   "metadata": {},
   "outputs": [
    {
     "name": "stdout",
     "output_type": "stream",
     "text": [
      "I have eaten 99 burritos\n"
     ]
    }
   ],
   "source": [
    "print('I have eaten '+str(99)+' burritos')"
   ]
  }
 ],
 "metadata": {
  "kernelspec": {
   "display_name": "Python [conda env:root] *",
   "language": "python",
   "name": "conda-root-py"
  },
  "language_info": {
   "codemirror_mode": {
    "name": "ipython",
    "version": 3
   },
   "file_extension": ".py",
   "mimetype": "text/x-python",
   "name": "python",
   "nbconvert_exporter": "python",
   "pygments_lexer": "ipython3",
   "version": "3.9.7"
  }
 },
 "nbformat": 4,
 "nbformat_minor": 5
}
