{
 "cells": [
  {
   "cell_type": "markdown",
   "id": "e7a1c1f7",
   "metadata": {},
   "source": [
    "# Assignment_2"
   ]
  },
  {
   "cell_type": "markdown",
   "id": "898045d3",
   "metadata": {},
   "source": [
    "**Q1.What are the two values of the boolean data types? how do you write them ?**\n",
    "\n",
    "Answer: The two values of boolean data types are True and False. We write them as T and F capital and remaining all letters in lowercase\n"
   ]
  },
  {
   "cell_type": "code",
   "execution_count": 1,
   "id": "f47aaf23",
   "metadata": {},
   "outputs": [
    {
     "name": "stdout",
     "output_type": "stream",
     "text": [
      "False <class 'bool'>\n",
      "True <class 'bool'>\n"
     ]
    }
   ],
   "source": [
    "a=False\n",
    "b=True\n",
    "print(a,type(a))\n",
    "print(b,type(b))"
   ]
  },
  {
   "cell_type": "markdown",
   "id": "4ac85299",
   "metadata": {},
   "source": [
    "**Q2. What are the three different types of Boolean operators?**\n",
    "\n",
    "Answer: The three differnt types of Boolean operators in python are: or,and,not\n"
   ]
  },
  {
   "cell_type": "code",
   "execution_count": 2,
   "id": "4438342b",
   "metadata": {},
   "outputs": [
    {
     "name": "stdout",
     "output_type": "stream",
     "text": [
      "False\n",
      "False\n",
      "False\n"
     ]
    }
   ],
   "source": [
    "a=50\n",
    "b=100\n",
    "print(a>50 and b>100) # Example of boolean and\n",
    "print(a>200 or b>100) # Example of boolean or\n",
    "print(not(a>10)) # Example of boolean not"
   ]
  },
  {
   "cell_type": "markdown",
   "id": "d54c78ca",
   "metadata": {},
   "source": [
    "**Q3. Make a list of each Boolean operator's truth tables (i.e. every possible combination of Boolean values for the operator and what it evaluate) ?**\n",
    "\n",
    "Answer: \n",
    "\n",
    "- Truth table for **'not'** operator\n",
    "\n",
    "    True not is False<br> False not is True\n",
    "\n",
    "\n",
    "- Truth table for **'or'** operator\n",
    "\n",
    "    True and True is True<br>\n",
    "    True and False is True<br>\n",
    "    False and True is True<br>\n",
    "    False and False is False<br>\n",
    "    \n",
    "    \n",
    "- Truth table for **'and'** operator\n",
    "\n",
    "    True and True is True<br>\n",
    "    True and False is False<br>\n",
    "    False and True is False<br>\n",
    "    False and False is False<br>\n"
   ]
  },
  {
   "cell_type": "markdown",
   "id": "7af971d0",
   "metadata": {},
   "source": [
    "**Q4. What are the values of the following expressions ?**\n",
    "\n",
    "- (5 > 4) and (3 == 5)\n",
    "- not (5 > 4)\n",
    "- (5 > 4) or (3 == 5)\n",
    "- not ((5 > 4) or (3 == 5))\n",
    "- (True and True) and (True == False)\n",
    "- (not False) or (not True)"
   ]
  },
  {
   "cell_type": "code",
   "execution_count": 3,
   "id": "3acdfc68",
   "metadata": {},
   "outputs": [
    {
     "name": "stdout",
     "output_type": "stream",
     "text": [
      "False\n",
      "False\n",
      "True\n",
      "False\n",
      "False\n",
      "True\n"
     ]
    }
   ],
   "source": [
    "print((5 > 4) and (3 == 5)) # True and False = False\n",
    "print(not (5 > 4)) # not True = False\n",
    "print((5 > 4) or (3 == 5)) # True or False = True\n",
    "print(not ((5 > 4) or (3 == 5))) # not(True or False) = False\n",
    "print((True and True) and (True == False)) # True and False = False\n",
    "print((not False) or (not True)) #True or False = True"
   ]
  },
  {
   "cell_type": "markdown",
   "id": "07c0eb3d",
   "metadata": {},
   "source": [
    "**Q5. What are the six comparison operators?**\n",
    "\n",
    "Answer: The six comparison operators available in Python are: == , != , < , > , <= , =>"
   ]
  },
  {
   "cell_type": "markdown",
   "id": "eb73cd65",
   "metadata": {},
   "source": [
    "**Q6. How do you tell the difference between the equal to and assignment operators?Describe a condition and when you would use one ?**\n",
    "\n",
    "Answer:  = is that assignment operator that stores a value in a variable while == is the equal to operator that compares two values and evaluates to a Boolean."
   ]
  },
  {
   "cell_type": "code",
   "execution_count": 4,
   "id": "2bd93203",
   "metadata": {},
   "outputs": [
    {
     "name": "stdout",
     "output_type": "stream",
     "text": [
      "True\n"
     ]
    }
   ],
   "source": [
    "x=25 # assignment operator\n",
    "if x==25: #equalto for checking exact value\n",
    "    print(x==25)"
   ]
  },
  {
   "cell_type": "markdown",
   "id": "4b333813",
   "metadata": {},
   "source": [
    "**Q7. Identify the three blocks in this code:**\n",
    "\n",
    "spam = 0<br>\n",
    "if spam == 10:<br>\n",
    "print('eggs')<br>\n",
    "if spam > 5:<br>\n",
    "print('bacon')<br>\n",
    "else:<br>\n",
    "print('ham')<br>\n",
    "print('spam')<br>\n",
    "print('spam')<br>\n",
    "\n",
    "Answer: In Python, code block refers to a collection of code that is in the same block or indent. This is most commonly found in classes, functions, and loops."
   ]
  },
  {
   "cell_type": "code",
   "execution_count": 5,
   "id": "32a4e918",
   "metadata": {},
   "outputs": [
    {
     "name": "stdout",
     "output_type": "stream",
     "text": [
      "ham\n",
      "spam\n",
      "spam\n"
     ]
    }
   ],
   "source": [
    "spam = 0  \n",
    "if spam == 10:  \n",
    "    print('eggs')  # block #1\n",
    "if spam > 5:  \n",
    "    print('bacon')  # block #2\n",
    "else:  \n",
    "    print('ham')  # block #3\n",
    "print('spam')  \n",
    "print('spam')"
   ]
  },
  {
   "cell_type": "markdown",
   "id": "413939ee",
   "metadata": {},
   "source": [
    "**Q8. Write code that prints Hello if 1 is stored in spam, prints Howdy if 2 is stored in spam, and prints Greetings! if anything else is stored in spam.**\n",
    "\n",
    "Answer:"
   ]
  },
  {
   "cell_type": "code",
   "execution_count": 6,
   "id": "9204409e",
   "metadata": {},
   "outputs": [
    {
     "name": "stdout",
     "output_type": "stream",
     "text": [
      "Hello\n",
      "Howdy\n",
      "Greetings\n"
     ]
    }
   ],
   "source": [
    "def spamCode(spam):\n",
    "    if spam==1:\n",
    "        print('Hello')\n",
    "    elif spam==2:\n",
    "        print('Howdy')\n",
    "    else:\n",
    "        print('Greetings')\n",
    "        \n",
    "spamCode(1) \n",
    "spamCode(2)\n",
    "spamCode(3)"
   ]
  },
  {
   "cell_type": "markdown",
   "id": "fb39052d",
   "metadata": {},
   "source": [
    "**Q9.If your programme is stuck in an endless loop, what keys you’ll press?**\n",
    "\n",
    "Answer: Ctrl-C"
   ]
  },
  {
   "cell_type": "markdown",
   "id": "b263ba52",
   "metadata": {},
   "source": [
    "**Q10. How can you tell the difference between break and continue?**\n",
    "\n",
    "Answer: break keyword is used to exit the loop when a certain certain is satisfied whereas continue is used when there is a need of restarting the loop and skipping the current statements below continue keyword."
   ]
  },
  {
   "cell_type": "markdown",
   "id": "107b9d73",
   "metadata": {},
   "source": [
    "**Q11. In a for loop, what is the difference between range(10), range(0, 10), and range(0, 10, 1)?**\n",
    "\n",
    "Answer:\n",
    "\n",
    "- The range(10) call range from 0 to 9 (but not include 10)\n",
    "- The range (0,10) explicitly tells the loop to start at 0\n",
    "- The range(0,10,1) explicitly tells the loop to increase the variable by 1 on each iteration\n"
   ]
  },
  {
   "cell_type": "markdown",
   "id": "6ef8fcad",
   "metadata": {},
   "source": [
    "**Q12. Write a short program that prints the numbers 1 to 10 using a for loop. Then write an equivalent program that prints the numbers 1 to 10 using a while loop ?**\n",
    "\n",
    "Answer: "
   ]
  },
  {
   "cell_type": "code",
   "execution_count": 7,
   "id": "f74bb8a0",
   "metadata": {},
   "outputs": [
    {
     "name": "stdout",
     "output_type": "stream",
     "text": [
      "Using For Loop:\n",
      "1 2 3 4 5 6 7 8 9 10 \n",
      "\n",
      "Using While Loop\n",
      "1 2 3 4 5 6 7 8 9 10 "
     ]
    }
   ],
   "source": [
    "print('Using For Loop:')\n",
    "for i in range(1,11):\n",
    "    print(i, end=\" \")\n",
    "print('\\n')\n",
    "print('Using While Loop') \n",
    "i=1\n",
    "while i<=10:\n",
    "    print(i, end=\" \")\n",
    "    i+=1"
   ]
  },
  {
   "cell_type": "markdown",
   "id": "f91fd1ed",
   "metadata": {},
   "source": [
    "**Q13. If you had a function named bacon() inside a module named spam, how would you call it after importing spam ?**\n",
    "\n",
    "Answer: It would be called as spam.bacon()"
   ]
  }
 ],
 "metadata": {
  "kernelspec": {
   "display_name": "Python [conda env:root] *",
   "language": "python",
   "name": "conda-root-py"
  },
  "language_info": {
   "codemirror_mode": {
    "name": "ipython",
    "version": 3
   },
   "file_extension": ".py",
   "mimetype": "text/x-python",
   "name": "python",
   "nbconvert_exporter": "python",
   "pygments_lexer": "ipython3",
   "version": "3.9.7"
  }
 },
 "nbformat": 4,
 "nbformat_minor": 5
}
