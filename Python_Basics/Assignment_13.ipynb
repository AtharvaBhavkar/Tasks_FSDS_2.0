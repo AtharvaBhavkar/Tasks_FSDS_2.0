{
 "cells": [
  {
   "cell_type": "markdown",
   "id": "c47309d1",
   "metadata": {},
   "source": [
    "# Assignment 13"
   ]
  },
  {
   "cell_type": "markdown",
   "id": "e7a70247",
   "metadata": {},
   "source": [
    "**Q1. What advantages do Excel spreadsheets have over CSV spreadsheets?**\n",
    "\n",
    "Ans: The Advantages of Excel over CSV are-\n",
    "    \n",
    "1. Excel (XLS and XLSX) file formats are better for storing and analysing complex data.\n",
    "2. CSV files are plain-text files and do not contain formatting, formulas, macros, etc. It is also known as flat files\n",
    "3. An Excel not only stores data but can also do operations on the data using macros, formulas etc"
   ]
  },
  {
   "cell_type": "markdown",
   "id": "4f766840",
   "metadata": {},
   "source": [
    "**Q2.What do you pass to csv.reader() and csv.writer() to create reader and writer objects?**\n",
    "\n",
    "Ans: First, call open() and pass it 'w' to open a file in write mode. This will create the object you can then pass to csv.writer() to create a Writer object."
   ]
  },
  {
   "cell_type": "code",
   "execution_count": 1,
   "id": "4e5abca7",
   "metadata": {},
   "outputs": [
    {
     "data": {
      "text/plain": [
       "21"
      ]
     },
     "execution_count": 1,
     "metadata": {},
     "output_type": "execute_result"
    }
   ],
   "source": [
    "import csv\n",
    "outputFile = open('output.csv', 'w', newline='')\n",
    "outputWriter = csv.writer(outputFile)\n",
    "outputWriter.writerow(['spam', 'eggs', 'bacon', 'ham'])"
   ]
  },
  {
   "cell_type": "markdown",
   "id": "fa9cb331",
   "metadata": {},
   "source": [
    "**Q3. What modes do File objects for reader and writer objects need to be opened in?**\n",
    "\n",
    "Ans: For csv.reader(iterable_file_object), the file objects needed to be opened in read mode `mode='r'`, whereas for csv.writer(iterable_file_object) the file objects needed to be opened in write mode `mode='w'`"
   ]
  },
  {
   "cell_type": "markdown",
   "id": "8a98d6b1",
   "metadata": {},
   "source": [
    "**Q4. What method takes a list argument and writes it to a CSV file?**\n",
    "\n",
    "Ans: csv.writer class provides two methods for writing to CSV. They are writerow() and writerows(). writerow() method writes a single row at a time, whereas writerows() method is used to write multiple rows at a time.\n"
   ]
  },
  {
   "cell_type": "code",
   "execution_count": 2,
   "id": "132c46d6",
   "metadata": {},
   "outputs": [],
   "source": [
    "import csv      \n",
    "fields = ['Name', 'Branch', 'Year', 'CGPA'] #column names \n",
    "rows = [ \n",
    "            ['Nikhil', 'COE', '2', '9.0'],  # data rows of csv file \n",
    "            ['Sanchit', 'COE', '2', '9.1'], \n",
    "            ['Ravi', 'IT', '2', '9.3']\n",
    "       ] \n",
    "with open(\"university_records.csv\", 'w') as csvfile: \n",
    "    csvwriter = csv.writer(csvfile) # creating a csv writer object \n",
    "    csvwriter.writerow(fields) # writing the fields \n",
    "    csvwriter.writerows(rows) # writing the data rows"
   ]
  },
  {
   "cell_type": "code",
   "execution_count": 3,
   "id": "8a53581d",
   "metadata": {},
   "outputs": [
    {
     "name": "stdout",
     "output_type": "stream",
     "text": [
      "['Name', 'Branch', 'Year', 'CGPA']\n",
      "['Nikhil', 'COE', '2', '9.0']\n",
      "['Sanchit', 'COE', '2', '9.1']\n",
      "['Ravi', 'IT', '2', '9.3']\n"
     ]
    }
   ],
   "source": [
    "with open(\"university_records.csv\",'r') as c:\n",
    "    csv_e = csv.reader(c,delimiter=',')\n",
    "    for e in csv_e :\n",
    "        if e:\n",
    "            print(e)"
   ]
  },
  {
   "cell_type": "markdown",
   "id": "97740789",
   "metadata": {},
   "source": [
    "**Q5. What do the keyword arguments delimiter and line terminator do?**\n",
    "\n",
    "Ans: \n",
    "Lets take the example of a csv file:\n",
    "<br>First Name, Last Name, Age\n",
    "<br>\\nMano, Vishnu, 24\n",
    "<br>Vishnu, Vardhan, 21\n",
    "\n",
    "Here ',' is delimiter, we can use any Character as per our needs if required. Similarly Line Terminator comes at end of line by default it is newline and can be changed accourding to requirement."
   ]
  },
  {
   "cell_type": "markdown",
   "id": "9a379427",
   "metadata": {},
   "source": [
    "**Q6. What function takes a string of JSON data and returns a Python data structure?**\n",
    "\n",
    "Ans: loads() method takes a string of JSON data and returns a Python data structure"
   ]
  },
  {
   "cell_type": "code",
   "execution_count": 4,
   "id": "17a6db28",
   "metadata": {},
   "outputs": [
    {
     "name": "stdout",
     "output_type": "stream",
     "text": [
      "{\n",
      "    \"Name\": \"Atharva Bhavkar\",\n",
      "    \"Qualification\": \"Bachelor of Engineering\",\n",
      "    \"Stream\": \"Computer Science and Engineering\"\n",
      "}\n",
      "Type of my_details_json is <class 'str'>\n",
      "{'Name': 'Atharva Bhavkar', 'Qualification': 'Bachelor of Engineering', 'Stream': 'Computer Science and Engineering'}\n",
      "Type of my_details is <class 'dict'>\n"
     ]
    }
   ],
   "source": [
    "import json\n",
    "my_details_json ='''{\n",
    "    \"Name\": \"Atharva Bhavkar\",\n",
    "    \"Qualification\": \"Bachelor of Engineering\",\n",
    "    \"Stream\": \"Computer Science and Engineering\"\n",
    "}'''\n",
    "print(my_details_json)\n",
    "print(f'Type of my_details_json is {type(my_details_json)}')\n",
    "my_details = json.loads(my_details_json)\n",
    "print(my_details)\n",
    "print(f'Type of my_details is {type(my_details)}')"
   ]
  },
  {
   "cell_type": "markdown",
   "id": "4e6ac51a",
   "metadata": {},
   "source": [
    "**Q7. What function takes a Python data structure and returns a string of JSON data?**\n",
    "\n",
    "Ans: dumps() method takes a python data structure and returns a string of JSON data"
   ]
  },
  {
   "cell_type": "code",
   "execution_count": 5,
   "id": "ace43824",
   "metadata": {},
   "outputs": [
    {
     "name": "stdout",
     "output_type": "stream",
     "text": [
      "{'Name': 'Atharva Bhavkar', 'Stream': 'Computer Science and Engineering', 'Qualification': 'Bachelor of Engineering'}\n",
      "Type of my_details is <class 'dict'>\n",
      "{\n",
      "    \"Name\": \"Atharva Bhavkar\",\n",
      "    \"Qualification\": \"Bachelor of Engineering\",\n",
      "    \"Stream\": \"Computer Science and Engineering\"\n",
      "}\n",
      "Type of my_details_json is <class 'str'>\n"
     ]
    }
   ],
   "source": [
    "import json\n",
    "my_details = {\n",
    "    'Name':'Atharva Bhavkar',\n",
    "    'Stream':'Computer Science and Engineering',\n",
    "    'Qualification':'Bachelor of Engineering'\n",
    "}\n",
    "print(my_details)\n",
    "print(f'Type of my_details is {type(my_details)}')\n",
    "my_details_json = json.dumps(my_details, indent=4, sort_keys=True)\n",
    "print(my_details_json)\n",
    "print(f'Type of my_details_json is {type(my_details_json)}')"
   ]
  }
 ],
 "metadata": {
  "kernelspec": {
   "display_name": "Python 3 (ipykernel)",
   "language": "python",
   "name": "python3"
  },
  "language_info": {
   "codemirror_mode": {
    "name": "ipython",
    "version": 3
   },
   "file_extension": ".py",
   "mimetype": "text/x-python",
   "name": "python",
   "nbconvert_exporter": "python",
   "pygments_lexer": "ipython3",
   "version": "3.9.7"
  }
 },
 "nbformat": 4,
 "nbformat_minor": 5
}
