{
 "cells": [
  {
   "cell_type": "markdown",
   "id": "2ae8573e",
   "metadata": {},
   "source": [
    "# Assignment 3"
   ]
  },
  {
   "cell_type": "markdown",
   "id": "344ff99c",
   "metadata": {},
   "source": [
    "**Q1. Why are functions advantageous to have in your programs?**\n",
    "\n",
    "Answer: The main advantage of writing a function is that it provides code reusability, by reducing duplicate code. Also this makes programs shorter, easier to read, and easier to update."
   ]
  },
  {
   "cell_type": "markdown",
   "id": "f537e0f7",
   "metadata": {},
   "source": [
    "**Q2. When does the code in a function run: when it's specified or when it's called?**\n",
    "    \n",
    "Answer: The code in a function executes when the function is called and not when the function is specified."
   ]
  },
  {
   "cell_type": "markdown",
   "id": "ef0ee9ab",
   "metadata": {},
   "source": [
    "**Q3. What statement creates a function?**\n",
    "\n",
    "Answer: The define or create a function, we use **def** statement\n",
    "    \n",
    "def function_name(parameters):<br>\n",
    "    \"\"\"doc string\"\"\"         \n",
    "    -----function's body-----<br>\n",
    "    -----function's body-----<br>\n",
    "    return value"
   ]
  },
  {
   "cell_type": "markdown",
   "id": "92d6234a",
   "metadata": {},
   "source": [
    "**Q4. What is the difference between a function and a function call?**\n",
    "\n",
    "Answer: A function is procedure to do a particular task and achieve a result, while function call is using this function to achieve that task. Using a function to do a particular task any point in program is called as function call."
   ]
  },
  {
   "cell_type": "markdown",
   "id": "57be6379",
   "metadata": {},
   "source": [
    "**Q5. How many global scopes are there in a Python program? How many local scopes?**\n",
    "\n",
    "Ans: There is one global scope, and a local scope is created whenever a function is called. The global scope is the one which is by default always available to you, whereas local scope is specific to a block of code."
   ]
  },
  {
   "cell_type": "markdown",
   "id": "92a18355",
   "metadata": {},
   "source": [
    "**Q6. What happens to variables in a local scope when the function call returns?**\n",
    "\n",
    "Answer: When a function call returns, the local scope is destroyed and we no longer have access to varaibles outside the local scope."
   ]
  },
  {
   "cell_type": "markdown",
   "id": "092951e1",
   "metadata": {},
   "source": [
    "**Q7. What is the concept of a return value? Is it possible to have a return value in an expression?**\n",
    "\n",
    "Answer: A return value is the value that a function call evaluates to. Like any value, a return value can be used as part of an expression."
   ]
  },
  {
   "cell_type": "markdown",
   "id": "b3042ec6",
   "metadata": {},
   "source": [
    "**Q8. If a function does not have a return statement, what is the return value of a call to that function?**\n",
    "\n",
    "Answer: If a function does not have a return statement, it simply returns **None** value and exits the function."
   ]
  },
  {
   "cell_type": "markdown",
   "id": "ecc75961",
   "metadata": {},
   "source": [
    "**Q9. How do you make a function variable refer to the global variable?**\n",
    "\n",
    "Answer: The global keyword is to be used when the variable has to be made available throughout the program, instead of just refererring to a particular function."
   ]
  },
  {
   "cell_type": "markdown",
   "id": "5291a22d",
   "metadata": {},
   "source": [
    "**Q10. What is the data type of None?**\n",
    "\n",
    "Answer: The keyword **None** is used to define a null value, or no value at all. None is not the same as False, 0 or an empty string. None is a data type of its own called **NoneType**"
   ]
  },
  {
   "cell_type": "markdown",
   "id": "01822278",
   "metadata": {},
   "source": [
    "**Q11. What does the sentence import areallyourpetsnamederic do?**\n",
    "\n",
    "Answer: The import statement imports a module named areallyourpetsnamederic. For that you need to first install the module in python using 'pip install module_name' but since there is no such module named areallyourpetsnamederic that exists, it shows an error message."
   ]
  },
  {
   "cell_type": "markdown",
   "id": "0092c7a3",
   "metadata": {},
   "source": [
    "**Q12. If you had a bacon() feature in a spam module, what would you call it after importing spam?**\n",
    "\n",
    "Answer: It can be called as spam.bacon()"
   ]
  },
  {
   "cell_type": "markdown",
   "id": "e1ffaee4",
   "metadata": {},
   "source": [
    "**Q13. What can you do to save a programme from crashing if it encounters an error?**\n",
    "\n",
    "Answer: We can make use of exception handling mechanism, by placing the code which can give an error by making use of **try** clause and **except** block"
   ]
  },
  {
   "cell_type": "markdown",
   "id": "590fd8f7",
   "metadata": {},
   "source": [
    "**Q14. What is the purpose of the try clause? What is the purpose of the except clause?**\n",
    "\n",
    "Answer: The code that could potentially cause an error goes in the try clause. The code that executes if an error happens goes in the except clause. If an error is caught in try block, the program control goes to except block and hence skips the remaining statements written under try block."
   ]
  }
 ],
 "metadata": {
  "kernelspec": {
   "display_name": "Python [conda env:root] *",
   "language": "python",
   "name": "conda-root-py"
  },
  "language_info": {
   "codemirror_mode": {
    "name": "ipython",
    "version": 3
   },
   "file_extension": ".py",
   "mimetype": "text/x-python",
   "name": "python",
   "nbconvert_exporter": "python",
   "pygments_lexer": "ipython3",
   "version": "3.9.7"
  }
 },
 "nbformat": 4,
 "nbformat_minor": 5
}
