{
 "cells": [
  {
   "cell_type": "markdown",
   "id": "39562dff",
   "metadata": {},
   "source": [
    "# Assignment 5\n"
   ]
  },
  {
   "cell_type": "markdown",
   "id": "40155c3c",
   "metadata": {},
   "source": [
    "**Q1.What does an empty dictionary's code look like?**\n",
    "\n",
    "Answer: An empty dictionary can be written as: <br>&emsp;&emsp;&emsp;&emsp;d = {} or d = dict()"
   ]
  },
  {
   "cell_type": "markdown",
   "id": "231defc1",
   "metadata": {},
   "source": [
    "**Q2. What is the value of dictionary value with key 'foo' and the value 42 ?**\n",
    "\n",
    "Answer: {'foo':42}"
   ]
  },
  {
   "cell_type": "markdown",
   "id": "9da4328d",
   "metadata": {},
   "source": [
    "**Q3. What is the most significant distinction between a dictionary and a list?**\n",
    "\n",
    "Answer: There are some significant differences between list and dictionary,\n",
    "    \n",
    "- Lists are written using square brackets [] while dictionary is written using curly brackets { }\n",
    "- Elements of list can be accessed using index number, while the values of dictionary can be accessed by its key\n",
    "- List elements are ordered, while dictionary elements by default are unordered"
   ]
  },
  {
   "cell_type": "markdown",
   "id": "08b08f5c",
   "metadata": {},
   "source": [
    "**Q4. What happens if you try to access spam ['foo'] if spam is {'bar':100} ?**\n",
    "\n",
    "Answer: If the specified key does not exist in the dictionary, it return an error namely 'KeyError'"
   ]
  },
  {
   "cell_type": "code",
   "execution_count": 1,
   "id": "9b64e122",
   "metadata": {},
   "outputs": [
    {
     "ename": "KeyError",
     "evalue": "'foo'",
     "output_type": "error",
     "traceback": [
      "\u001b[1;31m---------------------------------------------------------------------------\u001b[0m",
      "\u001b[1;31mKeyError\u001b[0m                                  Traceback (most recent call last)",
      "\u001b[1;32mC:\\Users\\ATHARV~1\\AppData\\Local\\Temp/ipykernel_24668/326573644.py\u001b[0m in \u001b[0;36m<module>\u001b[1;34m\u001b[0m\n\u001b[0;32m      1\u001b[0m \u001b[0mspam\u001b[0m\u001b[1;33m=\u001b[0m\u001b[1;33m{\u001b[0m\u001b[1;34m'bar'\u001b[0m\u001b[1;33m:\u001b[0m\u001b[1;36m100\u001b[0m\u001b[1;33m}\u001b[0m\u001b[1;33m\u001b[0m\u001b[1;33m\u001b[0m\u001b[0m\n\u001b[1;32m----> 2\u001b[1;33m \u001b[0mprint\u001b[0m\u001b[1;33m(\u001b[0m\u001b[0mspam\u001b[0m\u001b[1;33m[\u001b[0m\u001b[1;34m'foo'\u001b[0m\u001b[1;33m]\u001b[0m\u001b[1;33m)\u001b[0m\u001b[1;33m\u001b[0m\u001b[1;33m\u001b[0m\u001b[0m\n\u001b[0m",
      "\u001b[1;31mKeyError\u001b[0m: 'foo'"
     ]
    }
   ],
   "source": [
    "spam={'bar':100}\n",
    "print(spam['foo'])"
   ]
  },
  {
   "cell_type": "markdown",
   "id": "42f6a713",
   "metadata": {},
   "source": [
    "**Q5. If a dictionary is stored in spam, what is the difference between the expressions 'cat' in spam and 'cat' in spam.keys()?**\n",
    "\n",
    "Answer: The 'in' operator checks whether a value exits as a key in the dictionary or not and keys() is a dictionary method that returns all the keys in the form of a list and then checks whether the specified key exists in the returned list using in. The working of both is similar and is used for checking if a key exists."
   ]
  },
  {
   "cell_type": "code",
   "execution_count": 2,
   "id": "f71a3ab0",
   "metadata": {},
   "outputs": [
    {
     "name": "stdout",
     "output_type": "stream",
     "text": [
      "True\n",
      "dict_keys(['cat'])\n",
      "True\n"
     ]
    }
   ],
   "source": [
    "spam={'cat':10}\n",
    "print('cat' in spam)\n",
    "print(spam.keys())\n",
    "print('cat' in spam.keys())"
   ]
  },
  {
   "cell_type": "markdown",
   "id": "f68915ca",
   "metadata": {},
   "source": [
    "**Q6. If a dictionary is stored in spam,what is the difference between the expressions 'cat' in spam and 'cat' in spam.values() ?**\n",
    "\n",
    "Answer: 'cat' in spam checks whether there is a key named 'cat' in the dictionary, while 'cat' in spam.values() checks whether there is a value 'cat' for one of the keys in spam."
   ]
  },
  {
   "cell_type": "code",
   "execution_count": 3,
   "id": "4b5c6b7e",
   "metadata": {},
   "outputs": [
    {
     "name": "stdout",
     "output_type": "stream",
     "text": [
      "True\n",
      "dict_values([10])\n",
      "False\n"
     ]
    }
   ],
   "source": [
    "print('cat' in spam)\n",
    "print(spam.values())\n",
    "print('cat' in spam.values())"
   ]
  },
  {
   "cell_type": "markdown",
   "id": "dbe8a538",
   "metadata": {},
   "source": [
    "**Q7. What is a shortcut for the following code ?**"
   ]
  },
  {
   "cell_type": "raw",
   "id": "4ff30647",
   "metadata": {},
   "source": [
    "if 'color' not in spam:\n",
    "    spam['color'] ='black'"
   ]
  },
  {
   "cell_type": "code",
   "execution_count": 4,
   "id": "27eaf07e",
   "metadata": {},
   "outputs": [
    {
     "name": "stdout",
     "output_type": "stream",
     "text": [
      "{'cat': 10, 'color': 'black'}\n"
     ]
    }
   ],
   "source": [
    "#Answer:\n",
    "spam.setdefault('color','black')\n",
    "print(spam)"
   ]
  },
  {
   "cell_type": "markdown",
   "id": "1d6d39c2",
   "metadata": {},
   "source": [
    "**Q8. How do you 'pretty print' dictionary values using which modules and function ?**\n",
    "\n",
    "Answer: We can pretty print a dictionary using three functions namely: \n",
    "\n",
    "- pprint() function of pprint module\n",
    "- dumps() method of json module\n",
    "- dump() method of yaml module"
   ]
  },
  {
   "cell_type": "code",
   "execution_count": 5,
   "id": "c6e890f0",
   "metadata": {
    "scrolled": true
   },
   "outputs": [
    {
     "name": "stdout",
     "output_type": "stream",
     "text": [
      "Printing using print() function\n",
      " [{'Name': 'Sakshi', 'Age': '18', 'Class': {'Branch': 'Computer', 'Division': 'A'}}, {'Name': 'Aryan', 'Age': '18', 'Class': {'Branch': 'EnTC', 'Division': 'B'}}, {'Name': 'Raj', 'Age': '19', 'Class': {'Branch': 'Civil', 'Division': 'C'}}, {'Name': 'Sagar', 'Age': '18', 'Class': {'Branch': 'Mechanical', 'Division': 'D'}}]\n",
      "****************************************************************************************************\n",
      "Printing using pprint() funciton\n",
      "\n",
      "\n",
      "[{'Age': '18',\n",
      "  'Class': {'Branch': 'Computer', 'Division': 'A'},\n",
      "  'Name': 'Sakshi'},\n",
      " {'Age': '18', 'Class': {'Branch': 'EnTC', 'Division': 'B'}, 'Name': 'Aryan'},\n",
      " {'Age': '19', 'Class': {'Branch': 'Civil', 'Division': 'C'}, 'Name': 'Raj'},\n",
      " {'Age': '18',\n",
      "  'Class': {'Branch': 'Mechanical', 'Division': 'D'},\n",
      "  'Name': 'Sagar'}]\n",
      "****************************************************************************************************\n",
      "Printing using dumps() method\n",
      "\n",
      " [{\"Name\": \"Sakshi\", \"Age\": \"18\", \"Class\": {\"Branch\": \"Computer\", \"Division\": \"A\"}}, {\"Name\": \"Aryan\", \"Age\": \"18\", \"Class\": {\"Branch\": \"EnTC\", \"Division\": \"B\"}}, {\"Name\": \"Raj\", \"Age\": \"19\", \"Class\": {\"Branch\": \"Civil\", \"Division\": \"C\"}}, {\"Name\": \"Sagar\", \"Age\": \"18\", \"Class\": {\"Branch\": \"Mechanical\", \"Division\": \"D\"}}]\n",
      "****************************************************************************************************\n",
      "Printing using dump() method\n",
      "\n",
      " - Age: '18'\n",
      "  Class:\n",
      "    Branch: Computer\n",
      "    Division: A\n",
      "  Name: Sakshi\n",
      "- Age: '18'\n",
      "  Class:\n",
      "    Branch: EnTC\n",
      "    Division: B\n",
      "  Name: Aryan\n",
      "- Age: '19'\n",
      "  Class:\n",
      "    Branch: Civil\n",
      "    Division: C\n",
      "  Name: Raj\n",
      "- Age: '18'\n",
      "  Class:\n",
      "    Branch: Mechanical\n",
      "    Division: D\n",
      "  Name: Sagar\n",
      "\n"
     ]
    }
   ],
   "source": [
    "college = [\n",
    "  {'Name': 'Sakshi', 'Age': '18', 'Class': {'Branch':'Computer', 'Division': 'A'}},\n",
    "  {'Name': 'Aryan', 'Age': '18', 'Class': {'Branch':'EnTC', 'Division': 'B'}},\n",
    "  {'Name': 'Raj', 'Age': '19', 'Class': {'Branch':'Civil', 'Division': 'C'}},\n",
    "{'Name': 'Sagar', 'Age': '18', 'Class': {'Branch':'Mechanical', 'Division': 'D'}}]\n",
    "\n",
    "print('Printing using print() function\\n',college)\n",
    "print('*'*100)\n",
    "import pprint\n",
    "print('Printing using pprint() funciton\\n\\n')\n",
    "pprint.pprint(college)\n",
    "print('*'*100)\n",
    "import json\n",
    "dump = json.dumps(college)\n",
    "print('Printing using dumps() method\\n\\n', dump)\n",
    "print('*'*100)\n",
    "import yaml\n",
    "dump = yaml.dump(college)\n",
    "print('Printing using dump() method\\n\\n', dump)"
   ]
  }
 ],
 "metadata": {
  "kernelspec": {
   "display_name": "Python [conda env:root] *",
   "language": "python",
   "name": "conda-root-py"
  },
  "language_info": {
   "codemirror_mode": {
    "name": "ipython",
    "version": 3
   },
   "file_extension": ".py",
   "mimetype": "text/x-python",
   "name": "python",
   "nbconvert_exporter": "python",
   "pygments_lexer": "ipython3",
   "version": "3.9.7"
  }
 },
 "nbformat": 4,
 "nbformat_minor": 5
}
