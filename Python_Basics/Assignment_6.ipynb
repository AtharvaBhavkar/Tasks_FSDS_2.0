{
 "cells": [
  {
   "cell_type": "markdown",
   "id": "92aa9ce1",
   "metadata": {},
   "source": [
    "# Assignment 6"
   ]
  },
  {
   "cell_type": "markdown",
   "id": "7779ca14",
   "metadata": {},
   "source": [
    "**Q1. What are Escape characters ? and how do you use them ?**\n",
    "\n",
    "Answer: Escape characters represent characters in string values that cannot be written in plain text or would otherwise be difficult or impossible to type into code. We can use the backslash character to escape a single character or symbol<br> For example: \\t,\\n"
   ]
  },
  {
   "cell_type": "markdown",
   "id": "332c7079",
   "metadata": {},
   "source": [
    "**Q2. What do the escape characters n and t stand for ?**\n",
    "\n",
    "Answer: \\n stands for newline character and \\t stands for tabspace"
   ]
  },
  {
   "cell_type": "markdown",
   "id": "d2504fba",
   "metadata": {},
   "source": [
    "**Q3. What is the way to include backslash character in a string?**\n",
    "\n",
    "Answer: The \\\\ escape character will represent the backslash character in a string"
   ]
  },
  {
   "cell_type": "markdown",
   "id": "1692a8f6",
   "metadata": {},
   "source": [
    "**Q4. The string \"Howl's Moving Castle\" is a correct value. Why isn't the single quote character in the word Howl's not escaped a problem ?**\n",
    "\n",
    "Answer: The given string is correct as it has been written in double quotes(\"\") and not single quotes(''). If it was written in single quotes then we would need to escape it and it would be written as 'Howl \\'s Moving Castle' "
   ]
  },
  {
   "cell_type": "markdown",
   "id": "3e3ab6dd",
   "metadata": {},
   "source": [
    "**Q5. How do you write a string of newlines if you don't want to use the n character?**\n",
    "\n",
    "Answer: We can then make use of multiline strings in python which can be written within triple single quotes(''') or triple double quotes (\"\"\")"
   ]
  },
  {
   "cell_type": "code",
   "execution_count": 1,
   "id": "d70fb942",
   "metadata": {},
   "outputs": [
    {
     "name": "stdout",
     "output_type": "stream",
     "text": [
      "BC\n",
      "AV\n",
      "VW\n"
     ]
    }
   ],
   "source": [
    "a=\"\"\"BC\n",
    "AV\n",
    "VW\"\"\"\n",
    "print(a)"
   ]
  },
  {
   "cell_type": "markdown",
   "id": "36c42233",
   "metadata": {},
   "source": [
    "**Q6. What are the values of the given expressions ?**<br>\n",
    "'Hello, world!'[1]<br>\n",
    "'Hello, world!'[0:5]<br>\n",
    "'Hello, world!'[:5]<br>\n",
    "'Hello, world!'[3:]\n",
    "\n",
    "Answer:\n",
    "\n",
    "The first expression gives -> 'e'<br>\n",
    "The first expression gives -> 'Hello'<br>\n",
    "The first expression gives -> 'Hello'<br>\n",
    "The first expression gives -> 'lo, world!'"
   ]
  },
  {
   "cell_type": "markdown",
   "id": "677a7f06",
   "metadata": {},
   "source": [
    "**Q7. What are the values of the following expressions ?**\n",
    "\n",
    "'Hello'.upper()<br>\n",
    "'Hello'.upper().isupper()<br>\n",
    "'Hello'.upper().lower()\n",
    "\n",
    "Answer: The values for the given expressions are:\n",
    "\n",
    "'Hello'.upper() gives 'HELLO'<br>\n",
    "'Hello'.upper().isupper() gives True<br>\n",
    "'Hello'.upper().lower() gives 'hello'"
   ]
  },
  {
   "cell_type": "markdown",
   "id": "0f97cc30",
   "metadata": {},
   "source": [
    "**Q8. What are the values of the following expressions ?**\n",
    "\n",
    "'Remember, remember, the fifith of July.'.split()<br>\n",
    "-'.join('There can only one'.split())\n",
    "\n",
    "Answer: The values for the given expressions are:\n",
    "\n",
    "'Remember, remember, the fifith of July.'.split() gives ['Remember,', 'remember,', 'the', 'fifith', 'of', 'July.']<br>\n",
    "'-'.join('There can only one'.split()) gives 'There-can-only-one'"
   ]
  },
  {
   "cell_type": "markdown",
   "id": "a6a4551a",
   "metadata": {},
   "source": [
    "**Q9. What are the methods for right-justifying, left-justifying and centering a string ?**\n",
    "\n",
    "Answer: The rjust(),ljust(),center() string methods respectively\n"
   ]
  },
  {
   "cell_type": "markdown",
   "id": "f40d5339",
   "metadata": {},
   "source": [
    "**Q10. What is the best way to remove whitespace characters from the start or end ?**\n",
    "\n",
    "Answer: The lstrip() and rstrip() methods remove whitesapce characters from the left and right ends of a string respectively, while strip() method does it from both ends in one go.\n"
   ]
  }
 ],
 "metadata": {
  "kernelspec": {
   "display_name": "Python [conda env:root] *",
   "language": "python",
   "name": "conda-root-py"
  },
  "language_info": {
   "codemirror_mode": {
    "name": "ipython",
    "version": 3
   },
   "file_extension": ".py",
   "mimetype": "text/x-python",
   "name": "python",
   "nbconvert_exporter": "python",
   "pygments_lexer": "ipython3",
   "version": "3.9.7"
  }
 },
 "nbformat": 4,
 "nbformat_minor": 5
}
