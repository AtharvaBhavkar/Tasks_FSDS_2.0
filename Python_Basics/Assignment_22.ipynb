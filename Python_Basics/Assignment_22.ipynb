{
 "cells": [
  {
   "cell_type": "markdown",
   "id": "713870a9",
   "metadata": {},
   "source": [
    "# Assignment 22"
   ]
  },
  {
   "cell_type": "markdown",
   "id": "10c5fb3e",
   "metadata": {},
   "source": [
    "**Q1. What is the result of the code, and explain?**"
   ]
  },
  {
   "cell_type": "raw",
   "id": "9f4bb126",
   "metadata": {},
   "source": [
    "X = 'iNeuron'\n",
    "def func():\n",
    "    print(X)\n",
    "func()"
   ]
  },
  {
   "cell_type": "markdown",
   "id": "ae07a57e",
   "metadata": {},
   "source": [
    "<b>Ans:</b> The Result of this code is `iNeuron`. The function intially looks for the variable X in its local scope, but since there is no local variable X, its returns the value of global variable x i.e. iNeuron"
   ]
  },
  {
   "cell_type": "code",
   "execution_count": 2,
   "id": "b5be2844",
   "metadata": {},
   "outputs": [
    {
     "name": "stdout",
     "output_type": "stream",
     "text": [
      "iNeuron\n"
     ]
    }
   ],
   "source": [
    "X = 'iNeuron'\n",
    "def func():\n",
    "    print(X)\n",
    "func()"
   ]
  },
  {
   "cell_type": "markdown",
   "id": "1a5fe3da",
   "metadata": {},
   "source": [
    "**Q2. What is the result of the code, and explain?**"
   ]
  },
  {
   "cell_type": "raw",
   "id": "4ee51482",
   "metadata": {},
   "source": [
    "X = 'iNeuron'\n",
    "def func():\n",
    "    X = 'NI!'\n",
    "    print(X)\n",
    "func()"
   ]
  },
  {
   "cell_type": "markdown",
   "id": "5c8c8bb8",
   "metadata": {},
   "source": [
    "<b>Ans:</b> The Result of this code is `NI!`, because the function initially looks for the variable X in its local scope if X is not available then it checks for variable X in the global scope, since here the X is present in the local scope. it prints the value NI!"
   ]
  },
  {
   "cell_type": "code",
   "execution_count": 3,
   "id": "1cfc72ba",
   "metadata": {},
   "outputs": [
    {
     "name": "stdout",
     "output_type": "stream",
     "text": [
      "NI!\n"
     ]
    }
   ],
   "source": [
    "X = 'iNeuron'\n",
    "def func():\n",
    "    X = 'NI!'\n",
    "    print(X)\n",
    "func()"
   ]
  },
  {
   "cell_type": "markdown",
   "id": "c817dd0c",
   "metadata": {},
   "source": [
    "**Q3. What does this code print, and why?**"
   ]
  },
  {
   "cell_type": "raw",
   "id": "b92d6e58",
   "metadata": {},
   "source": [
    "X = 'iNeuron'\n",
    "def func():\n",
    "    X = 'NI'\n",
    "    print(X)\n",
    "func()\n",
    "print(X)"
   ]
  },
  {
   "cell_type": "markdown",
   "id": "3715a655",
   "metadata": {},
   "source": [
    "<b>Ans:</b> The output of the code is `NI` and `iNeuron` X=NI is in the local scope of the function func() hence the function prints the x value as NI. X = 'iNeuron' is in the global scope. hence print(X) prints output as iNeuron\n"
   ]
  },
  {
   "cell_type": "code",
   "execution_count": 4,
   "id": "07002630",
   "metadata": {},
   "outputs": [
    {
     "name": "stdout",
     "output_type": "stream",
     "text": [
      "NI\n",
      "iNeuron\n"
     ]
    }
   ],
   "source": [
    "X = 'iNeuron'\n",
    "def func():\n",
    "    X = 'NI'\n",
    "    print(X)\n",
    "func()\n",
    "print(X)"
   ]
  },
  {
   "cell_type": "markdown",
   "id": "1d2bb2c9",
   "metadata": {},
   "source": [
    "**Q4. What output does this code produce? Why?**"
   ]
  },
  {
   "cell_type": "raw",
   "id": "2d42f4b9",
   "metadata": {},
   "source": [
    "X = 'iNeuron'\n",
    "def func():\n",
    "    global X\n",
    "    X = 'NI'\n",
    "func()\n",
    "print(X)"
   ]
  },
  {
   "cell_type": "markdown",
   "id": "27518375",
   "metadata": {},
   "source": [
    "<b>Ans:</b>  The output of the code is `NI`. Since we are using global keyword inside the function func it directly access the variable in X in global scope and changes its value to NI, hence the output of the code is NI"
   ]
  },
  {
   "cell_type": "code",
   "execution_count": 6,
   "id": "5c6d6d99",
   "metadata": {},
   "outputs": [
    {
     "name": "stdout",
     "output_type": "stream",
     "text": [
      "NI\n"
     ]
    }
   ],
   "source": [
    "X = 'iNeuron'\n",
    "def func():\n",
    "    global X\n",
    "    X = 'NI'\n",
    "func()\n",
    "print(X)"
   ]
  },
  {
   "cell_type": "markdown",
   "id": "4a74645b",
   "metadata": {},
   "source": [
    "**Q5. What about this code—what’s the output, and why?**"
   ]
  },
  {
   "cell_type": "raw",
   "id": "4d296fb6",
   "metadata": {},
   "source": [
    "X = 'iNeuron'\n",
    "def func():\n",
    "    X = 'NI'\n",
    "    def nested():\n",
    "        print(X)\n",
    "    nested()\n",
    "func()\n",
    "X"
   ]
  },
  {
   "cell_type": "markdown",
   "id": "6905d137",
   "metadata": {},
   "source": [
    "<b>Ans:</b>The output of the code is `NI`. When a function wants to access a variable, if its not available in its local scope it looks for the variable in its global scope. Similarly here also function nested looks for variable X in its global scope, hence the output of the code is NI."
   ]
  },
  {
   "cell_type": "code",
   "execution_count": 9,
   "id": "eb999837",
   "metadata": {
    "scrolled": true
   },
   "outputs": [
    {
     "name": "stdout",
     "output_type": "stream",
     "text": [
      "NI\n"
     ]
    },
    {
     "data": {
      "text/plain": [
       "'iNeuron'"
      ]
     },
     "execution_count": 9,
     "metadata": {},
     "output_type": "execute_result"
    }
   ],
   "source": [
    "X = 'iNeuron'\n",
    "def func():\n",
    "    X = 'NI'\n",
    "    def nested():\n",
    "        print(X)\n",
    "    nested()\n",
    "func()\n",
    "X"
   ]
  },
  {
   "cell_type": "markdown",
   "id": "6626984e",
   "metadata": {},
   "source": [
    "**Q6. How about this code: what is its output in Python 3, and explain?**"
   ]
  },
  {
   "cell_type": "raw",
   "id": "a84d8f2e",
   "metadata": {},
   "source": [
    "def func():\n",
    "    X = 'NI'\n",
    "    def nested():\n",
    "        nonlocal X\n",
    "        X = 'Spam'\n",
    "    nested()\n",
    "    print(X)\n",
    "func()"
   ]
  },
  {
   "cell_type": "markdown",
   "id": "e3b819c0",
   "metadata": {},
   "source": [
    "<b>Ans:</b> The output of the code is `Spam`. Nonlocal keyword in python is used to declare a variable as not local. Hence the statement X = \"Spam\" is modified in the global scope, as a result the output of print(X) statement is Spam"
   ]
  },
  {
   "cell_type": "code",
   "execution_count": 14,
   "id": "f900576e",
   "metadata": {},
   "outputs": [
    {
     "name": "stdout",
     "output_type": "stream",
     "text": [
      "Spam\n"
     ]
    }
   ],
   "source": [
    "def func():\n",
    "    X = 'NI'\n",
    "    def nested():\n",
    "        nonlocal X\n",
    "        X = 'Spam'\n",
    "    nested()\n",
    "    print(X)\n",
    "func()"
   ]
  }
 ],
 "metadata": {
  "kernelspec": {
   "display_name": "Python 3 (ipykernel)",
   "language": "python",
   "name": "python3"
  },
  "language_info": {
   "codemirror_mode": {
    "name": "ipython",
    "version": 3
   },
   "file_extension": ".py",
   "mimetype": "text/x-python",
   "name": "python",
   "nbconvert_exporter": "python",
   "pygments_lexer": "ipython3",
   "version": "3.9.7"
  }
 },
 "nbformat": 4,
 "nbformat_minor": 5
}
