{
 "cells": [
  {
   "cell_type": "markdown",
   "id": "473f41a5",
   "metadata": {},
   "source": [
    "# Assignment 10"
   ]
  },
  {
   "cell_type": "markdown",
   "id": "86f9c49a",
   "metadata": {},
   "source": [
    "**Q1. How do you distinguish between shutil.copy() and shutil.copytree()?**\n",
    "\n",
    "Answer: shutil.copy() method is used to copy the contents of a file from one file to another file/folder, it primary takes two arguments src,dest, src represents the file to be copied where as destination refers to the file/folder to where the src data should be copied, if dest is a folder name the src with exact name will be copied to the dest folder, if its a file then the contents of src will be copied to dest where dest retains it name.\n",
    "\n",
    "shutil.copytree() function is used to copy the entire contents of a folder to other folder. it also takes two arguments src & dest, it copies all the content recursively and stores it in dest. The important catch here is dest must not exist prior to this and it will be created during the copy operation. Permissions and times of directories are copied with shutil.copystat() and individual files are copied using shutil.copy2() by default which can be modified using copy_function attribute."
   ]
  },
  {
   "cell_type": "markdown",
   "id": "893fed89",
   "metadata": {},
   "source": [
    "**Q2. What function is used to rename files??**\n",
    "\n",
    "Answer: os.rename() function is used to rename directories or files using a python, this function takes two arguments src and dest, src represents the name file/directory which we want to rename, whereas dest represents the new name of the file/directory."
   ]
  },
  {
   "cell_type": "markdown",
   "id": "dd43494b",
   "metadata": {},
   "source": [
    "**Q3. What is the difference between the delete functions in the send2trash and shutil modules?**\n",
    "\n",
    "Answer: Shutil module provides a funciton called as shutil.rmtree() which deletes a directory and all its contents. The other functions with similar functionality are os.remove() -> removes a file, os.rmdir() removes a empty directory. The problem with these functions is once a file is deleted. it will be lost permanently, if a file is deleted accidentally using these methods there is no way we can recover the deleted file\n",
    "\n",
    "Where as send2trash module provides a function called send2trash.send2trash() to delete a file/directory. These methods moves the files/directories to trash folder instead of permanently deleting them. Hence if a file/folder is deleted accidentally it can be still recovered from trash folder, if is deleted using the send2trash. It is not included with python standard libary like os & shutil modules and needs to be installed explicitly using the command !pip install send2trash"
   ]
  },
  {
   "cell_type": "markdown",
   "id": "54b2069f",
   "metadata": {},
   "source": [
    "**Q4. ZipFile objects have a close() method just like File objects’ close() method. What ZipFile method is equivalent to File objects’ open() method?**\n",
    "\n",
    "Answer:  ZipFile Module provides a method called as zipfile.ZipFile() to read and write to zipFiles. It takes arugments like filename and mode etc zipfile.ZipFile('filename', mode = 'r')"
   ]
  },
  {
   "cell_type": "markdown",
   "id": "5239224e",
   "metadata": {},
   "source": [
    "**Q5. Create a programme that searches a folder tree for files with a certain file extension (such as .pdf or .jpg). Copy these files from whatever location they are in to a new folder?**\n",
    "\n",
    "Answer: #Code"
   ]
  },
  {
   "cell_type": "code",
   "execution_count": 7,
   "id": "e4b352c6",
   "metadata": {},
   "outputs": [
    {
     "name": "stdout",
     "output_type": "stream",
     "text": [
      "D:\\Tasks_FSDS_2.0\\Python_Basics\\Cutoffs D:\\Tasks_FSDS_2.0\\Python_Basics\\BECopyGarbage\n",
      "Folder Name -> D:\\Tasks_FSDS_2.0\\Python_Basics\\Cutoffs\n",
      "\n",
      "Sub Folders -> []\n",
      "\n",
      "Files -> ['MHT-CET-2019-Cutoff-Round-1-Maharashtra.pdf', 'MHT-CET-2019-Cutoff-Round-2-Maharashtra.pdf', 'MHT-CET-2019-Cutoff-Round-3-Maharashtra.pdf', 'MHT-CET-2020-Cutoff-Round-1-Maharashtra.pdf', 'MHT-CET-2020-Cutoff-Round-2-Maharashtra.pdf', 'MHT-CET-2021-Cutoff-Round-1-Maharashtra.pdf', 'MHT-CET-2021-Cutoff-Round-2-Maharashtra.pdf', 'MHT-CET-2022-Cutoff-Round-1-Maharashtra.pdf', 'MHT-CET-2022-Cutoff-Round-2-Maharashtra.pdf', 'MHT-CET-2022-Cutoff-Round-3-Maharashtra.pdf']\n",
      "\n",
      "Files copied successfully from D:\\Tasks_FSDS_2.0\\Python_Basics\\Cutoffs to D:\\Tasks_FSDS_2.0\\Python_Basics\\BECopyGarbage\n"
     ]
    }
   ],
   "source": [
    "import os\n",
    "import shutil\n",
    "\n",
    "def search_and_copy(source,destination,extensions):\n",
    "    source = os.path.abspath(source)\n",
    "    destination = os.path.abspath(destination)\n",
    "    print(source,destination)\n",
    "    for foldername, subfolder, filenames in os.walk(source):\n",
    "        print(f'Folder Name -> {foldername}',end='\\n\\n')\n",
    "        print(f'Sub Folders -> {subfolder}',end='\\n\\n')\n",
    "        print(f'Files -> {filenames}',end='\\n\\n')\n",
    "        for filename in filenames:\n",
    "            fileName,extension = os.path.splitext(filename)\n",
    "            if extension in extensions:\n",
    "                targetFile = foldername+os.path.sep+fileName+extension\n",
    "                shutil.copy(targetFile, destination)\n",
    "        print(f'Files copied successfully from {source} to {destination}')\n",
    "extensions = ['.pdf','.txt','.ipynb']\n",
    "source = 'Cutoffs'\n",
    "destination = 'BECopyGarbage'\n",
    "search_and_copy(source, destination, extensions)"
   ]
  }
 ],
 "metadata": {
  "kernelspec": {
   "display_name": "Python 3 (ipykernel)",
   "language": "python",
   "name": "python3"
  },
  "language_info": {
   "codemirror_mode": {
    "name": "ipython",
    "version": 3
   },
   "file_extension": ".py",
   "mimetype": "text/x-python",
   "name": "python",
   "nbconvert_exporter": "python",
   "pygments_lexer": "ipython3",
   "version": "3.9.7"
  }
 },
 "nbformat": 4,
 "nbformat_minor": 5
}
