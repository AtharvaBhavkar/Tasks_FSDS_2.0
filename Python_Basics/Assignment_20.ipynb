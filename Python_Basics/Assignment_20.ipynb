{
 "cells": [
  {
   "cell_type": "markdown",
   "id": "3e63b552",
   "metadata": {},
   "source": [
    "# Assignment 20"
   ]
  },
  {
   "cell_type": "markdown",
   "id": "1db74b61",
   "metadata": {},
   "source": [
    "`Note:` Some of the codes have not been executed but are syntactically correct (as my I wasn't able to install the sqlite properly at this point of time)"
   ]
  },
  {
   "cell_type": "markdown",
   "id": "1265d11f",
   "metadata": {},
   "source": [
    "**Q1. Set the variable test1 to the string 'This is a test of the emergency text system,' and save test1 to a file named test.txt.**\n"
   ]
  },
  {
   "cell_type": "code",
   "execution_count": 1,
   "id": "45577651",
   "metadata": {},
   "outputs": [
    {
     "name": "stdout",
     "output_type": "stream",
     "text": [
      "This is a test of the emergency text system,\n"
     ]
    }
   ],
   "source": [
    "test1 = 'This is a test of the emergency text system,'\n",
    "print(test1)\n",
    "with open('test.txt','w') as f:\n",
    "    f.write(test1)"
   ]
  },
  {
   "cell_type": "code",
   "execution_count": 2,
   "id": "feacdf64",
   "metadata": {},
   "outputs": [
    {
     "name": "stdout",
     "output_type": "stream",
     "text": [
      "This is a test of the emergency text system,\n"
     ]
    }
   ],
   "source": [
    "!type test.txt"
   ]
  },
  {
   "cell_type": "markdown",
   "id": "d5bbac5c",
   "metadata": {},
   "source": [
    "**Q2. Read the contents of the file test.txt into the variable test2. Is there a difference between test 1 and test 2?**"
   ]
  },
  {
   "cell_type": "code",
   "execution_count": 3,
   "id": "128cc450",
   "metadata": {},
   "outputs": [
    {
     "name": "stdout",
     "output_type": "stream",
     "text": [
      "This is a test of the emergency text system,\n",
      "True\n"
     ]
    }
   ],
   "source": [
    "with open('test.txt','r') as file:\n",
    "    test2 = file.read()\n",
    "    \n",
    "print(test2)   \n",
    "print(test1 == test2)"
   ]
  },
  {
   "cell_type": "markdown",
   "id": "2ed533d3",
   "metadata": {},
   "source": [
    "**Q3. Create a CSV file called books.csv by using these lines:**"
   ]
  },
  {
   "cell_type": "markdown",
   "id": "4e9a2444",
   "metadata": {},
   "source": [
    "title,author,year<br>\n",
    "The Weirdstone of Brisingamen,Alan Garner,1960<br>\n",
    "Perdido Street Station,China Miéville,2000<br>\n",
    "Thud!,Terry Pratchett,2005<br>\n",
    "The Spellman Files,Lisa Lutz,2007<br>\n",
    "Small Gods,Terry Pratchett,1992"
   ]
  },
  {
   "cell_type": "code",
   "execution_count": 4,
   "id": "38453e56",
   "metadata": {},
   "outputs": [],
   "source": [
    "data = '''title,author,year\n",
    "The Weirdstone of Brisingamen,Alan Garner,1960\n",
    "Perdido Street Station,China Miéville,2000\n",
    "Thud!,Terry Pratchett,2005\n",
    "The Spellman Files,Lisa Lutz,2007\n",
    "Small Gods,Terry Pratchett,1992'''\n",
    "with open('books.csv','w') as file:\n",
    "    file.write(data)"
   ]
  },
  {
   "cell_type": "markdown",
   "id": "dc0f9024",
   "metadata": {},
   "source": [
    "**Q4. Use the sqlite3 module to create a SQLite database called books.db, and a table called books with these fields: title (text), author (text), and year (integer).**"
   ]
  },
  {
   "cell_type": "code",
   "execution_count": null,
   "id": "311404ef",
   "metadata": {},
   "outputs": [],
   "source": [
    "import sqlite3\n",
    "import csv\n",
    "conn = sqlite3.connect(\"books.db\")\n",
    "cursor = conn.cursor()\n",
    "with open(\"books.csv\",\"r\") as file:\n",
    "    books = csv.DictReader(file)\n",
    "    for book in books:\n",
    "        cursor.execute(\"INSERT INTO books VALUES (?,?,?)\",(book['title'],book['author'],book['year']))\n",
    "conn.commit()\n",
    "conn.close()"
   ]
  },
  {
   "cell_type": "markdown",
   "id": "c5a046b9",
   "metadata": {},
   "source": [
    "**Q6. Select and print the title column from the books table in alphabetical order.**"
   ]
  },
  {
   "cell_type": "code",
   "execution_count": null,
   "id": "0a404b90",
   "metadata": {},
   "outputs": [],
   "source": [
    "import sqlite3\n",
    "conn = sqlite3.connect('books.db')\n",
    "cursor = conn.cursor()\n",
    "output = cursor.execute(\"SELECT title FROM books ORDER BY title ASC\")\n",
    "for ele in output:\n",
    "    print(ele[0])\n",
    "conn.commit()\n",
    "conn.close()"
   ]
  },
  {
   "cell_type": "markdown",
   "id": "fed520c8",
   "metadata": {},
   "source": [
    "**Q7. From the books table, select and print all columns in the order of publication.**"
   ]
  },
  {
   "cell_type": "code",
   "execution_count": null,
   "id": "1ea5f49b",
   "metadata": {},
   "outputs": [],
   "source": [
    "import sqlite3\n",
    "conn = sqlite3.connect('books.db')\n",
    "cursor = conn.cursor()\n",
    "ouput = cursor.execute(\"SELECT * FROM books ORDER BY year\")\n",
    "for record in ouput:\n",
    "    print(record)"
   ]
  },
  {
   "cell_type": "markdown",
   "id": "2b15df28",
   "metadata": {},
   "source": [
    "**Q8. Use the sqlalchemy module to connect to the sqlite3 database books.db that you just made in exercise 6.**"
   ]
  },
  {
   "cell_type": "code",
   "execution_count": null,
   "id": "b2311f1d",
   "metadata": {},
   "outputs": [],
   "source": [
    "import sqlalchemy\n",
    "conn = sqlalchemy.create_engine('sqlite:///books.db')\n",
    "conn"
   ]
  },
  {
   "cell_type": "markdown",
   "id": "fdcb70f4",
   "metadata": {},
   "source": [
    "**Q9. Install the Redis server and the Python redis library (pip install redis) on your computer. Create a Redis hash called test with the fields count (1) and name ('Fester Bestertester'). Print all the fields for test.**"
   ]
  },
  {
   "cell_type": "code",
   "execution_count": null,
   "id": "53bc52a5",
   "metadata": {},
   "outputs": [],
   "source": [
    "! python -m pip install redis"
   ]
  },
  {
   "cell_type": "code",
   "execution_count": null,
   "id": "bc2d2367",
   "metadata": {},
   "outputs": [],
   "source": [
    "import redis\n",
    "conn = redis.Redis()\n",
    "conn.hset('test',{\n",
    "    'count':1,\n",
    "    'name':'Fester Bestertester'\n",
    "})\n",
    "conn.hgetall('test')"
   ]
  },
  {
   "cell_type": "markdown",
   "id": "63fec638",
   "metadata": {},
   "source": [
    "**Q10. Increment the count field of test and print it.**"
   ]
  },
  {
   "cell_type": "code",
   "execution_count": null,
   "id": "fc900974",
   "metadata": {},
   "outputs": [],
   "source": [
    "conn.hincrby('test', 'count', 1)\n",
    "conn.hget('test', 'count')"
   ]
  }
 ],
 "metadata": {
  "kernelspec": {
   "display_name": "Python 3 (ipykernel)",
   "language": "python",
   "name": "python3"
  },
  "language_info": {
   "codemirror_mode": {
    "name": "ipython",
    "version": 3
   },
   "file_extension": ".py",
   "mimetype": "text/x-python",
   "name": "python",
   "nbconvert_exporter": "python",
   "pygments_lexer": "ipython3",
   "version": "3.9.7"
  }
 },
 "nbformat": 4,
 "nbformat_minor": 5
}
