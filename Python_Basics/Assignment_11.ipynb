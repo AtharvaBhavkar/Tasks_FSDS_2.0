{
 "cells": [
  {
   "cell_type": "markdown",
   "id": "b8821bfc",
   "metadata": {},
   "source": [
    "# Assignment 11"
   ]
  },
  {
   "cell_type": "markdown",
   "id": "b7a3762a",
   "metadata": {},
   "source": [
    "**Q1. Create an assert statement that throws an AssertionError if the variable spam is a negative integer.**"
   ]
  },
  {
   "cell_type": "code",
   "execution_count": 1,
   "id": "e8365d7f",
   "metadata": {},
   "outputs": [
    {
     "ename": "AssertionError",
     "evalue": "Number is not positive",
     "output_type": "error",
     "traceback": [
      "\u001b[1;31m---------------------------------------------------------------------------\u001b[0m",
      "\u001b[1;31mAssertionError\u001b[0m                            Traceback (most recent call last)",
      "\u001b[1;32mC:\\conda_tmp/ipykernel_13344/639827163.py\u001b[0m in \u001b[0;36m<module>\u001b[1;34m\u001b[0m\n\u001b[0;32m      1\u001b[0m \u001b[0mn\u001b[0m\u001b[1;33m=\u001b[0m\u001b[1;33m-\u001b[0m\u001b[1;36m1\u001b[0m\u001b[1;33m\u001b[0m\u001b[1;33m\u001b[0m\u001b[0m\n\u001b[1;32m----> 2\u001b[1;33m \u001b[1;32massert\u001b[0m \u001b[0mn\u001b[0m\u001b[1;33m>\u001b[0m\u001b[1;36m0\u001b[0m\u001b[1;33m,\u001b[0m\u001b[1;34m'Number is not positive'\u001b[0m\u001b[1;33m\u001b[0m\u001b[1;33m\u001b[0m\u001b[0m\n\u001b[0m",
      "\u001b[1;31mAssertionError\u001b[0m: Number is not positive"
     ]
    }
   ],
   "source": [
    "n=-1\n",
    "assert n>0,'Number is not positive'"
   ]
  },
  {
   "cell_type": "markdown",
   "id": "1aab9a61",
   "metadata": {},
   "source": [
    "**Q2. Write an assert statement that triggers an AssertionError if the variables eggs and bacon contain strings that are the same as each other, even if their cases are different (that is, 'hello' and 'hello' are considered the same, and 'goodbye' and 'GOODbye' are also considered the same).**"
   ]
  },
  {
   "cell_type": "code",
   "execution_count": 2,
   "id": "2cb01e38",
   "metadata": {},
   "outputs": [
    {
     "name": "stdout",
     "output_type": "stream",
     "text": [
      "Enter string(eggs): \n",
      "Enter string(bacon): 7\n",
      "Not same\n"
     ]
    }
   ],
   "source": [
    "eggs = input(\"Enter string(eggs): \").lower()\n",
    "bacon = input(\"Enter string(bacon): \").lower()\n",
    "assert eggs!=bacon,'Both strings are same'\n",
    "print(\"Not same\") #will only come to this line if no AssertionError is raised"
   ]
  },
  {
   "cell_type": "markdown",
   "id": "e576c89e",
   "metadata": {},
   "source": [
    "**Q3. Create an assert statement that throws an AssertionError every time.**"
   ]
  },
  {
   "cell_type": "code",
   "execution_count": 3,
   "id": "c6142e4a",
   "metadata": {},
   "outputs": [
    {
     "ename": "AssertionError",
     "evalue": "Always Shows Assertion Error",
     "output_type": "error",
     "traceback": [
      "\u001b[1;31m---------------------------------------------------------------------------\u001b[0m",
      "\u001b[1;31mAssertionError\u001b[0m                            Traceback (most recent call last)",
      "\u001b[1;32mC:\\conda_tmp/ipykernel_13344/1197259760.py\u001b[0m in \u001b[0;36m<module>\u001b[1;34m\u001b[0m\n\u001b[0;32m      1\u001b[0m \u001b[1;32mdef\u001b[0m \u001b[0massert_everytime\u001b[0m\u001b[1;33m(\u001b[0m\u001b[1;33m)\u001b[0m\u001b[1;33m:\u001b[0m\u001b[1;33m\u001b[0m\u001b[1;33m\u001b[0m\u001b[0m\n\u001b[0;32m      2\u001b[0m     \u001b[1;32massert\u001b[0m \u001b[1;32mFalse\u001b[0m\u001b[1;33m,\u001b[0m \u001b[1;34m'Always Shows Assertion Error'\u001b[0m\u001b[1;33m\u001b[0m\u001b[1;33m\u001b[0m\u001b[0m\n\u001b[1;32m----> 3\u001b[1;33m \u001b[0massert_everytime\u001b[0m\u001b[1;33m(\u001b[0m\u001b[1;33m)\u001b[0m\u001b[1;33m\u001b[0m\u001b[1;33m\u001b[0m\u001b[0m\n\u001b[0m",
      "\u001b[1;32mC:\\conda_tmp/ipykernel_13344/1197259760.py\u001b[0m in \u001b[0;36massert_everytime\u001b[1;34m()\u001b[0m\n\u001b[0;32m      1\u001b[0m \u001b[1;32mdef\u001b[0m \u001b[0massert_everytime\u001b[0m\u001b[1;33m(\u001b[0m\u001b[1;33m)\u001b[0m\u001b[1;33m:\u001b[0m\u001b[1;33m\u001b[0m\u001b[1;33m\u001b[0m\u001b[0m\n\u001b[1;32m----> 2\u001b[1;33m     \u001b[1;32massert\u001b[0m \u001b[1;32mFalse\u001b[0m\u001b[1;33m,\u001b[0m \u001b[1;34m'Always Shows Assertion Error'\u001b[0m\u001b[1;33m\u001b[0m\u001b[1;33m\u001b[0m\u001b[0m\n\u001b[0m\u001b[0;32m      3\u001b[0m \u001b[0massert_everytime\u001b[0m\u001b[1;33m(\u001b[0m\u001b[1;33m)\u001b[0m\u001b[1;33m\u001b[0m\u001b[1;33m\u001b[0m\u001b[0m\n",
      "\u001b[1;31mAssertionError\u001b[0m: Always Shows Assertion Error"
     ]
    }
   ],
   "source": [
    "def assert_everytime():\n",
    "    assert False, 'Always Shows Assertion Error'\n",
    "assert_everytime()"
   ]
  },
  {
   "cell_type": "markdown",
   "id": "3299575e",
   "metadata": {},
   "source": [
    "**Q4. What are the two lines that must be present in your software in order to call logging.debug()?**"
   ]
  },
  {
   "cell_type": "code",
   "execution_count": 4,
   "id": "832fad83",
   "metadata": {},
   "outputs": [],
   "source": [
    "import logging\n",
    "logging.basicConfig(filename = 'log_try.txt',level=logging.DEBUG, format=' %(asctime)s - %(levelname)s - %(message)s')"
   ]
  },
  {
   "cell_type": "markdown",
   "id": "66cc1894",
   "metadata": {},
   "source": [
    "**Q5. What are the two lines that your program must have in order to have logging.debug() send a logging message to a file named programLog.txt?**"
   ]
  },
  {
   "cell_type": "code",
   "execution_count": 5,
   "id": "bd5f0db8",
   "metadata": {},
   "outputs": [],
   "source": [
    "import logging\n",
    "logging.basicConfig(filename = 'log_try.txt',level=logging.DEBUG, format=' %(asctime)s - %(levelname)s - %(message)s')\n",
    "logging.debug(\"Data Inserted Successfully\")\n",
    "logging.debug('Connection Closed Successfully')"
   ]
  },
  {
   "cell_type": "code",
   "execution_count": 6,
   "id": "0ec1f3b6",
   "metadata": {},
   "outputs": [
    {
     "name": "stdout",
     "output_type": "stream",
     "text": [
      " 2022-12-17 19:24:37,703 - DEBUG - Data Inserted Successfully\n",
      "\n",
      " 2022-12-17 19:24:37,703 - DEBUG - Connection Closed Successfully\n",
      "\n",
      " 2022-12-17 19:42:44,259 - DEBUG - Data Inserted Successfully\n",
      "\n",
      " 2022-12-17 19:42:44,259 - DEBUG - Connection Closed Successfully\n",
      "\n"
     ]
    }
   ],
   "source": [
    "#showing content of log file generated by above code\n",
    "file = open(\"log_try.txt\",\"r\")\n",
    "for record in file.readlines():\n",
    "    print(record)\n",
    "file.close()"
   ]
  },
  {
   "cell_type": "markdown",
   "id": "47d624f6",
   "metadata": {},
   "source": [
    "**Q6. What are the five levels of logging?**\n",
    "\n",
    "Ans: The five levels of logging are `DEBUG(10)`, `INFO(20)`, `WARNING(30)`, `ERROR(40)`, `CRITICAL(50)`"
   ]
  },
  {
   "cell_type": "markdown",
   "id": "0a34c32f",
   "metadata": {},
   "source": [
    "**Q7. What line of code would you add to your software to disable all logging messages?**"
   ]
  },
  {
   "cell_type": "code",
   "execution_count": 7,
   "id": "0c07a2e9",
   "metadata": {},
   "outputs": [],
   "source": [
    "logging.disable = True"
   ]
  },
  {
   "cell_type": "markdown",
   "id": "d4e8070d",
   "metadata": {},
   "source": [
    "**Q8. Why is using logging messages better than using print() to display the same message?**\n",
    "\n",
    "Ans: Once your code is developed, you can disable logging messages without removing th lines that do logging, whereas you need to manually remove print() statements, which is tedious activity. Also print is used when you want to display any particular message or help whereas logging is used to record all events like error, info, debug messages, timestamps."
   ]
  },
  {
   "cell_type": "markdown",
   "id": "57e8b12b",
   "metadata": {},
   "source": [
    "**Q9. What are the differences between the Step Over, Step In, and Step Out buttons in the debugger?**\n",
    "\n",
    "Ans: \n",
    "1. Step in - Step In button will cause the debugger to execute the next line of code and then pause again.\n",
    "2. Step Over - Step Over button will execute the next line of code, similar to the Step In button. However, if the next line of code is a function call, the Step Over button will “step over” the code in the function. The function’s code will be executed at full speed, and the debugger will pause as soon as the function call returns.\n",
    "3. Step out - Step Out button will cause the debugger to execute lines of code at full speed until it returns from the current function."
   ]
  },
  {
   "cell_type": "markdown",
   "id": "ede8554e",
   "metadata": {},
   "source": [
    "**Q10. After you click Continue, when will the debugger stop ?**\n",
    "\n",
    "Ans: This will cause the program to continue running normally, without pausing for debugging untill it terminates or reaches a breakpoint."
   ]
  },
  {
   "cell_type": "markdown",
   "id": "837a85dd",
   "metadata": {},
   "source": [
    "**Q11. What is the concept of a breakpoint?**\n",
    "\n",
    "Ans: Breakpoint is a setting on a line of code that causes the debugger to pause when the program execution reaches the line."
   ]
  }
 ],
 "metadata": {
  "kernelspec": {
   "display_name": "Python 3 (ipykernel)",
   "language": "python",
   "name": "python3"
  },
  "language_info": {
   "codemirror_mode": {
    "name": "ipython",
    "version": 3
   },
   "file_extension": ".py",
   "mimetype": "text/x-python",
   "name": "python",
   "nbconvert_exporter": "python",
   "pygments_lexer": "ipython3",
   "version": "3.9.7"
  }
 },
 "nbformat": 4,
 "nbformat_minor": 5
}
