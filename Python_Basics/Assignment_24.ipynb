{
 "cells": [
  {
   "cell_type": "markdown",
   "id": "1c992190",
   "metadata": {},
   "source": [
    "# Assignment 24"
   ]
  },
  {
   "cell_type": "markdown",
   "id": "122453ac",
   "metadata": {},
   "source": [
    "**Q1. What is the relationship between def statements and lambda expressions ?**"
   ]
  },
  {
   "cell_type": "markdown",
   "id": "4561541a",
   "metadata": {},
   "source": [
    "<b>Ans:</b>The def defined functions do not return anything if not explicitly returned, whereas the lambda function does return an object. The def functions must be declared in the namespace. lambda functions are also called as anonymous functions and are usually written to execute a single line of code."
   ]
  },
  {
   "cell_type": "markdown",
   "id": "73a1ce6e",
   "metadata": {},
   "source": [
    "**Q2. What is the benefit of lambda?**"
   ]
  },
  {
   "cell_type": "markdown",
   "id": "a3db4131",
   "metadata": {},
   "source": [
    "<b>Ans:</b> Some of the key benefits of using a lambda function are as follows:\n",
    "    \n",
    "1. Can be used to create Nameless/Anonymous functions inside some complex functions if we are planning to use it only once.\n",
    "2. Fuctions created using lambda expressions can be assigned to a variable and can be used by simply calling the variable\n",
    "3. Moderate to small functions can be created in a single line"
   ]
  },
  {
   "cell_type": "markdown",
   "id": "d6076600",
   "metadata": {},
   "source": [
    "**Q3. Compare and contrast map, filter, and reduce.**"
   ]
  },
  {
   "cell_type": "markdown",
   "id": "992cd854",
   "metadata": {},
   "source": [
    "<b>Ans:</b> The differences between map, filter and reduce are:\n",
    "\n",
    "1. The `map()` function takes another function as a parameter to which the given values are to be mapped in a specific format\n",
    "2. The `filter()` function is used to create an output list consisting of values for which the function returns true\n",
    "3. The `reduce()` function, as the name describes, applies a given function to the iterables and returns a single value"
   ]
  },
  {
   "cell_type": "code",
   "execution_count": 1,
   "id": "dd32a595",
   "metadata": {},
   "outputs": [
    {
     "name": "stdout",
     "output_type": "stream",
     "text": [
      "Map -> [2, 4, 6, 8]\n",
      "Filter -> [1, 3]\n",
      "Reduce -> 21\n"
     ]
    }
   ],
   "source": [
    "from functools import reduce\n",
    "# map function\n",
    "print('Map ->',list(map(lambda x:x+x, [1,2,3,4])))\n",
    "# fitler function\n",
    "print('Filter ->',list(filter(lambda x:x%2 !=0, [1,2,3,4])))\n",
    "# reduce function\n",
    "print('Reduce ->',reduce(lambda x,y:x+y, [1,2,3,4,5,6]))"
   ]
  },
  {
   "cell_type": "markdown",
   "id": "31354d65",
   "metadata": {},
   "source": [
    "**Q4. What are function annotations, and how are they used?**"
   ]
  },
  {
   "cell_type": "markdown",
   "id": "fb8e5671",
   "metadata": {},
   "source": [
    "<b>Ans:</b>Function annotations provide a way of associating various parts of a function with arbitrary python expressions at compile time.\n",
    "Annotations of simple parameters def func(x: expression, y: expression = 20):\n",
    "Whereas the annotations for excess parameters are as − def func (**args: expression, **kwargs: expression):"
   ]
  },
  {
   "cell_type": "markdown",
   "id": "d8deb6e4",
   "metadata": {},
   "source": [
    "**Q5. What are recursive functions, and how are they used?**"
   ]
  },
  {
   "cell_type": "markdown",
   "id": "6ce77735",
   "metadata": {},
   "source": [
    "<b>Ans:</b> A recursive function is a function that calls itself during its execution. The process may repeat several times, outputting the result and the end of each iteration."
   ]
  },
  {
   "cell_type": "markdown",
   "id": "998c16e2",
   "metadata": {},
   "source": [
    "**Q6. What are some general design guidelines for coding functions?**"
   ]
  },
  {
   "cell_type": "markdown",
   "id": "10e173ef",
   "metadata": {},
   "source": [
    "<b>Ans:</b> Some of the general design guidelines for coding functions are:\n",
    "\n",
    "1. Proper Identation to increase the code readability\n",
    "2. Avoid using digits while choosing a variable name\n",
    "3. Avoid using or limited use of global variables\n",
    "4. Try to use a name for the function which conveys the purpose of the function\n",
    "5. Try to follow a naming convention for function names (pascalCase or camelCase) and stick with the same convention throughout the application.\n"
   ]
  },
  {
   "cell_type": "markdown",
   "id": "d1932f52",
   "metadata": {},
   "source": [
    "**Q7. Name three or more ways that functions can communicate results to a caller.**"
   ]
  },
  {
   "cell_type": "markdown",
   "id": "180e2087",
   "metadata": {},
   "source": [
    "<b>Ans:</b> Some of the ways in which a function can communicate with the calling function is:\n",
    "\n",
    "1. return\n",
    "2. yield\n",
    "3. print"
   ]
  }
 ],
 "metadata": {
  "kernelspec": {
   "display_name": "Python 3 (ipykernel)",
   "language": "python",
   "name": "python3"
  },
  "language_info": {
   "codemirror_mode": {
    "name": "ipython",
    "version": 3
   },
   "file_extension": ".py",
   "mimetype": "text/x-python",
   "name": "python",
   "nbconvert_exporter": "python",
   "pygments_lexer": "ipython3",
   "version": "3.9.7"
  }
 },
 "nbformat": 4,
 "nbformat_minor": 5
}
