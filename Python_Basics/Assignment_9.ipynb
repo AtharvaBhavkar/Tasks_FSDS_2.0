{
 "cells": [
  {
   "cell_type": "markdown",
   "id": "f56e5d2b",
   "metadata": {},
   "source": [
    "# Assignment 9"
   ]
  },
  {
   "cell_type": "markdown",
   "id": "59dbdd54",
   "metadata": {},
   "source": [
    "**Q1. To what does a relative path refer ?**\n",
    "\n",
    "Answer: The relative path is the path to some file with respect to your current working directory (PWD).\n",
    "\n",
    "For example: If absolute path to a file called demo.txt is: C:/users/admin/docs/demo.txt If my PWD is C:/users/admin/ , then the relative path to stuff.txt would be: docs/demo.txt\n",
    "\n",
    "Note: PWD + relative path = absolute path"
   ]
  },
  {
   "cell_type": "markdown",
   "id": "09a8d5d1",
   "metadata": {},
   "source": [
    "**Q2.Where does an absolute path start with your Operating System ?**\n",
    "\n",
    "Answer: In Linux based systems the absolute path starts with /. Where as in Windows based systems absolute path starts with C:"
   ]
  },
  {
   "cell_type": "markdown",
   "id": "ea44c7f0",
   "metadata": {},
   "source": [
    "**Q3.What does the functions os.getcwd() and os.chdir() do ?**\n",
    "\n",
    "Answer:  os.getcwd() method tells us the location of current working directory (CWD). Whereas os.chdir() method in Python used to change the current working directory to specified path. These functions are similar to linux commands pwd and cd"
   ]
  },
  {
   "cell_type": "code",
   "execution_count": 1,
   "id": "b06ad5a2",
   "metadata": {},
   "outputs": [
    {
     "name": "stdout",
     "output_type": "stream",
     "text": [
      "D:\\Tasks_FSDS_2.0\\Python_Basics\n",
      "C:\\Users\\Public\n"
     ]
    }
   ],
   "source": [
    "import os\n",
    "print(os.getcwd()) # Prints the current Working Directory\n",
    "path = r'C:\\Users\\Public'\n",
    "os.chdir(path)\n",
    "print(os.getcwd())"
   ]
  },
  {
   "cell_type": "markdown",
   "id": "2ebeb72e",
   "metadata": {},
   "source": [
    "**Q4. What are . and .. folders ?**\n",
    "\n",
    "Answer: . represents the current working directory whereas .. represents the parent directory of current directory\n",
    "    \n",
    "For Example: If the below path is my absolute path: \n",
    "\n",
    "C:\\\\Users\\\\Atharva\\\\Documents\\\\iNeuron-Assignments\\\\Python_Assignment1\n",
    "\n",
    "Then . represents C:\\\\Users\\\\Atharva\\\\Documents\\\\iNeuron-Assignments\\\\Python_Assignment1 &\n",
    "    .. represents C:\\\\Users\\\\Atharva\\\\Documents\\\\iNeuron-Assignments\n"
   ]
  },
  {
   "cell_type": "markdown",
   "id": "37e80d03",
   "metadata": {},
   "source": [
    "**Q5. In C:\\bacon\\eggs\\spam.txt which part is the dir name and which part is the base name ?**\n",
    "    \n",
    "Answer:  For C:\\bacon\\eggs\\spam.txt<br>\n",
    "The dir name is C:\\\\bacon\\\\eggs<br>\n",
    "The Base name is spam.txt"
   ]
  },
  {
   "cell_type": "markdown",
   "id": "c1422163",
   "metadata": {},
   "source": [
    "**Q6. What are the three mode arguments that can be passed to the open() function ?**\n",
    "\n",
    "Answer: A file can be accessed in python using open() function. open function takes two arguments filename and mode of operation (optional). if mode is not provided the default mode of opening is read mode\n",
    "So, the syntax is: open(filename, mode)\n",
    "\n",
    "- Read Only (‘r’) : It opens text file for reading, handle is positioned at the beginning of the file. If the file does not exists, raises the I/O error. This is also the default mode in which a file is opened.\n",
    "- Read and Write (‘r+’): Open the file for reading and writing. The handle is positioned at the beginning of the file and it raises I/O error if the file does not exist.\n",
    "- Write Only (‘w’) : Open the file for writing. For the existing files, the data is truncated and over-written. The handle is positioned at the beginning of the file. Creates the file if the file does not exist.\n",
    "- Write and Read (‘w+’) : Open the file for reading and writing. For an existing file the handle is positioned at the beginning of the file and hence data will be overwritten.\n",
    "- Append Only (‘a’): Open the file for writing. The file is created if it does not exist. The handle is positioned at the end of the file. The data being written will be inserted at the end, after the existing data.\n",
    "- Append and Read (‘a+’) : Open the file for reading and writing. The file is created if it does not exist. The handle is positioned at the end of the file. The data being written will be inserted at the end, after the existing data."
   ]
  },
  {
   "cell_type": "markdown",
   "id": "199b46b8",
   "metadata": {},
   "source": [
    "**Q7. What happens if an existing file is opened in write mode ?**\n",
    "\n",
    "Answer: Using this mode will overwrite any existing content in a file. If the given file does not exist, a new one will be created."
   ]
  },
  {
   "cell_type": "markdown",
   "id": "249c9abc",
   "metadata": {},
   "source": [
    "**Q8. How do you tell the difference between read() and readlines() ?**\n",
    "\n",
    "Answer: \n",
    "1. The main difference is that read() will read the whole file at once and then print out the first characters that take up as many bytes as you specify in the parenthesis, whereas the readline() that will read and print out only the first characters that take up as many bytes as you specify in the parenthesis. You may want to use readline() when you're reading files that are too big for your RAM.\n",
    "\n",
    "2. The read() would treat each character in the file separately, meaning that the iteration would happen for every character. The readline() function, on the other hand, only reads a single line of the file. This means that if the first line of the file were three lines long, the readline() function would only parse (or iterate/operate) on the first line of the file."
   ]
  },
  {
   "cell_type": "markdown",
   "id": "25adf73c",
   "metadata": {},
   "source": [
    "**Q9. What data structure does a shelf value resemble?**\n",
    "\n",
    "Answer: It contains key and values it represents dictionary."
   ]
  }
 ],
 "metadata": {
  "kernelspec": {
   "display_name": "Python 3 (ipykernel)",
   "language": "python",
   "name": "python3"
  },
  "language_info": {
   "codemirror_mode": {
    "name": "ipython",
    "version": 3
   },
   "file_extension": ".py",
   "mimetype": "text/x-python",
   "name": "python",
   "nbconvert_exporter": "python",
   "pygments_lexer": "ipython3",
   "version": "3.9.7"
  }
 },
 "nbformat": 4,
 "nbformat_minor": 5
}
