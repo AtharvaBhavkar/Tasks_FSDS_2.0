{
 "cells": [
  {
   "cell_type": "markdown",
   "id": "4e35af15",
   "metadata": {},
   "source": [
    "# Assignment 4"
   ]
  },
  {
   "cell_type": "markdown",
   "id": "01c78c9f",
   "metadata": {},
   "source": [
    "**Q1. What exactly is [ ]?**\n",
    "\n",
    "Answer: [] denotes an empty list with no elements, we can write an empty list as a=[]\n"
   ]
  },
  {
   "cell_type": "markdown",
   "id": "fd8c4a3e",
   "metadata": {},
   "source": [
    "**Q2. In a list of values stored in a variable called spam, how would you assign the value 'hello' as the third value? (Assume [2, 4, 6, 8, 10] are in spam.)**\n",
    "\n",
    "Answer: By assigning it to index 2, since list follows zero based indexing. Also it would replace the existing '6' value with 'hello'"
   ]
  },
  {
   "cell_type": "code",
   "execution_count": 1,
   "id": "f9628bd2",
   "metadata": {},
   "outputs": [
    {
     "name": "stdout",
     "output_type": "stream",
     "text": [
      "[2, 4, 'hello', 8, 10]\n"
     ]
    }
   ],
   "source": [
    "#solution\n",
    "spam=[2,4,6,8,10]\n",
    "spam[2]='hello'\n",
    "print(spam)"
   ]
  },
  {
   "cell_type": "markdown",
   "id": "a9a2dd29",
   "metadata": {},
   "source": [
    "Lets pretend the spam includes the list ['a', 'b','c','d'] for the next three queries."
   ]
  },
  {
   "cell_type": "code",
   "execution_count": 2,
   "id": "8d672c8b",
   "metadata": {},
   "outputs": [],
   "source": [
    "spam = ['a', 'b','c','d']"
   ]
  },
  {
   "cell_type": "markdown",
   "id": "a6e3fbe9",
   "metadata": {},
   "source": [
    "**Q3. What is the value of spam[int(int('3' * 2) / 11)]?**\n",
    "\n",
    "Answer: This will evaluate to spam[3] which is 'd'"
   ]
  },
  {
   "cell_type": "code",
   "execution_count": 3,
   "id": "6b12916b",
   "metadata": {},
   "outputs": [
    {
     "name": "stdout",
     "output_type": "stream",
     "text": [
      "d\n"
     ]
    }
   ],
   "source": [
    "s=spam[int(int('3' * 2) / 11)] # spam[int(33/11)] = spam[3]\n",
    "print(s) #prints d"
   ]
  },
  {
   "cell_type": "markdown",
   "id": "66aa9d92",
   "metadata": {},
   "source": [
    "**Q4. What is the value of spam[-1]?**\n",
    "\n",
    "Answer: The value with negative index -1 would be 'd'"
   ]
  },
  {
   "cell_type": "code",
   "execution_count": 4,
   "id": "ff903a16",
   "metadata": {},
   "outputs": [
    {
     "name": "stdout",
     "output_type": "stream",
     "text": [
      "d\n"
     ]
    }
   ],
   "source": [
    "spam = ['a', 'b','c','d']\n",
    "print(spam[-1]) # negative index # d"
   ]
  },
  {
   "cell_type": "markdown",
   "id": "bc86dbdc",
   "metadata": {},
   "source": [
    "**Q5. What is the value of spam[:2]?**\n",
    "\n",
    "Answer: This will print the first two values with index 0 and 1, which is 'a' and 'b' respectively and will not print the nth index specified which is index 2 ('c')"
   ]
  },
  {
   "cell_type": "code",
   "execution_count": 5,
   "id": "fc9b54ec",
   "metadata": {},
   "outputs": [
    {
     "name": "stdout",
     "output_type": "stream",
     "text": [
      "['a', 'b']\n"
     ]
    }
   ],
   "source": [
    "print(spam[:2])"
   ]
  },
  {
   "cell_type": "markdown",
   "id": "4cf9178b",
   "metadata": {},
   "source": [
    "Let's pretend bacon has the list [3.14, 'cat' 11, 'cat' True] for the next three questions."
   ]
  },
  {
   "cell_type": "code",
   "execution_count": 6,
   "id": "b803ed63",
   "metadata": {},
   "outputs": [],
   "source": [
    "bacon=[3.14,'cat',11,'cat',True]"
   ]
  },
  {
   "cell_type": "markdown",
   "id": "d4648cd3",
   "metadata": {},
   "source": [
    "**Q6. What is the value of bacon.index('cat')?**\n",
    "\n",
    "Answer:The value of bacon.index('cat') is 1 (Note: index method returns the index of first occuerence of 'cat')"
   ]
  },
  {
   "cell_type": "code",
   "execution_count": 7,
   "id": "04626d81",
   "metadata": {},
   "outputs": [
    {
     "name": "stdout",
     "output_type": "stream",
     "text": [
      "1\n"
     ]
    }
   ],
   "source": [
    "print(bacon.index('cat'))"
   ]
  },
  {
   "cell_type": "markdown",
   "id": "50fa9faf",
   "metadata": {},
   "source": [
    "**Q7. How does bacon.append(99) change the look of the list value in bacon?**\n",
    "\n",
    "Answer: list.append(val) adds a new value 'val' at the end of the list, hence bacon.append(99) will add a new value 99 at the last index of list bacon"
   ]
  },
  {
   "cell_type": "code",
   "execution_count": 8,
   "id": "48a72edf",
   "metadata": {},
   "outputs": [
    {
     "name": "stdout",
     "output_type": "stream",
     "text": [
      "[3.14, 'cat', 11, 'cat', True, 99]\n"
     ]
    }
   ],
   "source": [
    "bacon.append(99)\n",
    "print(bacon)"
   ]
  },
  {
   "cell_type": "markdown",
   "id": "e8c37143",
   "metadata": {},
   "source": [
    "**Q8. How does bacon.remove('cat') change the look of the list in bacon?**\n",
    "\n",
    "Answer: It removes the first occurence of cat in the list (if cat is not present in the list, it throws ValueError)"
   ]
  },
  {
   "cell_type": "code",
   "execution_count": 9,
   "id": "64e4185c",
   "metadata": {},
   "outputs": [
    {
     "name": "stdout",
     "output_type": "stream",
     "text": [
      "[3.14, 11, 'cat', True, 99]\n"
     ]
    }
   ],
   "source": [
    "bacon.remove('cat')\n",
    "print(bacon)"
   ]
  },
  {
   "cell_type": "markdown",
   "id": "c5a11f26",
   "metadata": {},
   "source": [
    "**Q9. What are the list concatenation and list replication operations?**\n",
    "\n",
    "Answer: Similar to strings, the operator for list concatenation is +, while the operator for replication is * "
   ]
  },
  {
   "cell_type": "code",
   "execution_count": 10,
   "id": "b59c5954",
   "metadata": {},
   "outputs": [
    {
     "name": "stdout",
     "output_type": "stream",
     "text": [
      "['a', 'b', 'c', 'd', 'X', 'Y', 'Z']\n",
      "['X', 'Y', 'Z', 'X', 'Y', 'Z']\n"
     ]
    }
   ],
   "source": [
    "a = ['a','b','c','d']\n",
    "b = ['X','Y','Z']\n",
    "print(a + b) # List Concatenation\n",
    "print(b*2) # List Replication"
   ]
  },
  {
   "cell_type": "markdown",
   "id": "b5e0a094",
   "metadata": {},
   "source": [
    "**Q10. What is the difference between the list method append() and insert()?**\n",
    "\n",
    "Answer: While append(val) will add values only to the end of a list, insert(index,val) can add them at the specified index."
   ]
  },
  {
   "cell_type": "code",
   "execution_count": 11,
   "id": "e0fbcaf5",
   "metadata": {},
   "outputs": [
    {
     "name": "stdout",
     "output_type": "stream",
     "text": [
      "List after appending 4:  [1, 2, 3, 4]\n",
      "List after inserting Demo at 2nd index:  [1, 2, 'Demo', 3, 4]\n"
     ]
    }
   ],
   "source": [
    "a = [1,2,3]\n",
    "a.append(4)\n",
    "print(\"List after appending 4: \",a)\n",
    "a.insert(2,'Demo')\n",
    "print(\"List after inserting Demo at 2nd index: \",a)"
   ]
  },
  {
   "cell_type": "markdown",
   "id": "0a48d003",
   "metadata": {},
   "source": [
    "**Q11. What are the two methods for removing items from a list?**\n",
    "\n",
    "Answer: There are two methods for removing items from a list namely pop() and remove(). \n",
    "\n",
    "list.pop(index) method removes the value at the specified index, if no index is specified it removes the element at last position from list. If the specified index is not present in the list, it returns an IndexError. The popped value can be stored in a variable.\n",
    "\n",
    "list.remove(val) method removes the first occurence of value specified from the list, here the val argument has to be compulsorily given. If the specified value does not exist then it returns a ValueError. remove method can't be used when there is a need to store the popped value in a variable."
   ]
  },
  {
   "cell_type": "code",
   "execution_count": 12,
   "id": "c74d4bf6",
   "metadata": {},
   "outputs": [
    {
     "name": "stdout",
     "output_type": "stream",
     "text": [
      "None\n",
      "[3.14, 11, 'cat', True]\n"
     ]
    }
   ],
   "source": [
    "#with remove method\n",
    "bacon = [3.14, 'cat', 11, 'cat', True]\n",
    "a=bacon.remove('cat')\n",
    "print(a)\n",
    "print(bacon)"
   ]
  },
  {
   "cell_type": "code",
   "execution_count": 13,
   "id": "11980dc7",
   "metadata": {},
   "outputs": [
    {
     "name": "stdout",
     "output_type": "stream",
     "text": [
      "True\n",
      "[3.14, 'cat', 11, 'cat']\n"
     ]
    }
   ],
   "source": [
    "#with pop method\n",
    "bacon = [3.14, 'cat', 11, 'cat', True]\n",
    "a=bacon.pop()\n",
    "print(a)\n",
    "print(bacon)"
   ]
  },
  {
   "cell_type": "markdown",
   "id": "6d0c448d",
   "metadata": {},
   "source": [
    "**Q12. Describe how list values and string values are identical.**\n",
    "\n",
    "Answer: \n",
    "\n",
    "- Both have similar indexes and slice<br>\n",
    "- Both can be used with for loop<br>\n",
    "- Can be concatenated or replicated<br>\n",
    "- len() can be used on both for calculating its length<br>\n",
    "- Can be used with the in and not in operators<br>"
   ]
  },
  {
   "cell_type": "markdown",
   "id": "fe647f07",
   "metadata": {},
   "source": [
    "**Q13. What's the difference between tuples and lists?**\n",
    "\n",
    "Answer: Tuples are represented using parentheses, (), while lists use the square brackets, []. Also, Lists are Mutable, Indexable and Slicable. they can have values added, removed, or changed. Tuples are Immutable but Indexable and Slicable. the tuple values cannot be changed at all."
   ]
  },
  {
   "cell_type": "markdown",
   "id": "f4df17bb",
   "metadata": {},
   "source": [
    "**Q14. How do you type a tuple value that only contains the integer 42?**\n",
    "\n",
    "Answer: (42,) (The trailing comma has to be given otherwise its considered as a int by python Interpreter)"
   ]
  },
  {
   "cell_type": "code",
   "execution_count": 14,
   "id": "ae568896",
   "metadata": {},
   "outputs": [
    {
     "name": "stdout",
     "output_type": "stream",
     "text": [
      "Type of tup1 is:  <class 'int'>\n",
      "Type of tup2 is:  <class 'tuple'>\n"
     ]
    }
   ],
   "source": [
    "tup1=(42)\n",
    "tup2=(42,)\n",
    "print(\"Type of tup1 is: \",type(tup1))\n",
    "print(\"Type of tup2 is: \",type(tup2))"
   ]
  },
  {
   "cell_type": "markdown",
   "id": "f610da9c",
   "metadata": {},
   "source": [
    "**Q15. How do you get a list value's tuple form? How do you get a tuple value's list form?**\n",
    "\n",
    "Answer: The tuple() and list() functions, respectively are used to convert a list to tuple and vice versa"
   ]
  },
  {
   "cell_type": "markdown",
   "id": "d1f9739f",
   "metadata": {},
   "source": [
    "**Q16. Variables that \"contain\" list values are not necessarily lists themselves. Instead, what do they contain?**\n",
    "\n",
    "Answer: They contain references to list values."
   ]
  },
  {
   "cell_type": "markdown",
   "id": "fc9fbb7a",
   "metadata": {},
   "source": [
    "**Q17. How do you distinguish between copy.copy() and copy.deepcopy()?**\n",
    "\n",
    "Answer: The copy.copy() function will do a shallow copy of a list, while the copy.deepcopy() function will do a deep copy of a list. It has to be noted that, only copy.deepcopy() will duplicate any lists inside the list."
   ]
  }
 ],
 "metadata": {
  "kernelspec": {
   "display_name": "Python [conda env:root] *",
   "language": "python",
   "name": "conda-root-py"
  },
  "language_info": {
   "codemirror_mode": {
    "name": "ipython",
    "version": 3
   },
   "file_extension": ".py",
   "mimetype": "text/x-python",
   "name": "python",
   "nbconvert_exporter": "python",
   "pygments_lexer": "ipython3",
   "version": "3.9.7"
  }
 },
 "nbformat": 4,
 "nbformat_minor": 5
}
