{
 "cells": [
  {
   "cell_type": "markdown",
   "id": "fc0d3a16",
   "metadata": {},
   "source": [
    "# Assignment 7"
   ]
  },
  {
   "cell_type": "markdown",
   "id": "8599114a",
   "metadata": {},
   "source": [
    "**Q1. What is the name of the feature responsible for generating Regex objects?**\n",
    "\n",
    "Answer: re.compile() is the feature responsible for generation of Regex objects"
   ]
  },
  {
   "cell_type": "markdown",
   "id": "df339f27",
   "metadata": {},
   "source": [
    "**Q2. Why do raw strings often appear in Regex objects?**\n",
    "\n",
    "Answer: backslash('\\') is used to escape special characters in a string and display them as a normal character without considering its special meaning. Hence to avoid using such backslash always, we can simply put the string as a raw string (r'{string}') which is used highly in regex objects."
   ]
  },
  {
   "cell_type": "code",
   "execution_count": 1,
   "id": "92b0c5d2",
   "metadata": {},
   "outputs": [
    {
     "name": "stdout",
     "output_type": "stream",
     "text": [
      "With raw string:  \\na 3\n",
      "Without raw string:  \n",
      "a 2\n"
     ]
    }
   ],
   "source": [
    "a=r\"\\na\"\n",
    "print(\"With raw string: \",a,len(a))\n",
    "a='\\na'\n",
    "print(\"Without raw string: \",a,len(a))"
   ]
  },
  {
   "cell_type": "markdown",
   "id": "b5d655ac",
   "metadata": {},
   "source": [
    "**Q3. What is the return value of the search() method?**\n",
    "\n",
    "Answer: The function re.search(pattern,string) searches for some substring in a string and returns a match object if found, else it returns none."
   ]
  },
  {
   "cell_type": "markdown",
   "id": "46eb1025",
   "metadata": {},
   "source": [
    "**Q4. From a Match item, how do you get the actual strings that match the pattern?**\n",
    "\n",
    "Answer: For Matched items group() methods returns actual strings that match the pattern"
   ]
  },
  {
   "cell_type": "markdown",
   "id": "bc04f9da",
   "metadata": {},
   "source": [
    "**Q5. In the regex which created from the r'(\\d\\d\\d)-(\\d\\d\\d-\\d\\d\\d\\d)', what does group zero cover? Group 2? Group 1?**\n",
    "\n",
    "Answer: In the Regex r'(\\d\\d\\d)-(\\d\\d\\d-\\d\\d\\d\\d)' the zero group covers the entire pattern match where as the first group cover (\\d\\d\\d) and the second group cover (\\d\\d\\d-\\d\\d\\d\\d)"
   ]
  },
  {
   "cell_type": "code",
   "execution_count": 2,
   "id": "07946434",
   "metadata": {},
   "outputs": [
    {
     "name": "stdout",
     "output_type": "stream",
     "text": [
      "('989', '231-3290')\n",
      "989-231-3290\n",
      "989\n",
      "231-3290\n"
     ]
    }
   ],
   "source": [
    "import re\n",
    "phoneNumRegex = re.compile(r'(\\d\\d\\d)-(\\d\\d\\d-\\d\\d\\d\\d)')\n",
    "mo = phoneNumRegex.search('My number is 989-231-3290.')\n",
    "print(mo.groups()) # Prints all groups in a tuple format\n",
    "print(mo.group(0)) # Always returns the fully matched string \n",
    "print(mo.group(1)) # Returns the first group\n",
    "print(mo.group(2)) # Returns the second group"
   ]
  },
  {
   "cell_type": "markdown",
   "id": "d38fd5f8",
   "metadata": {},
   "source": [
    "**Q6. In standard expression syntax, parentheses and intervals have distinct meanings. How can you tell a regex that you want it to fit real parentheses and periods?**\n",
    "\n",
    "Answer: Ans: The \\\\. **\\\\**( and **\\\\)** escape characters in the raw string passed to re.compile() will match actual parenthesis characters.\n"
   ]
  },
  {
   "cell_type": "code",
   "execution_count": 3,
   "id": "a6a762af",
   "metadata": {},
   "outputs": [
    {
     "name": "stdout",
     "output_type": "stream",
     "text": [
      "(989) 231-3290\n"
     ]
    }
   ],
   "source": [
    "import re\n",
    "phone = re.compile(r'(\\(\\d\\d\\d\\)) (\\d\\d\\d-\\d\\d\\d\\d)')\n",
    "mo = phone.search('My phone number is (989) 231-3290.')\n",
    "print(mo.group())"
   ]
  },
  {
   "cell_type": "markdown",
   "id": "c812cf1a",
   "metadata": {},
   "source": [
    "**Q7. The findall() method returns a string list or a list of string tuples. What causes it to return one of the two options?**\n",
    "\n",
    "Answer: If the regex pattern has no groups, a list of strings matched is returned while if the regex pattern has groups, a list of tuple of strings is returned."
   ]
  },
  {
   "cell_type": "code",
   "execution_count": 4,
   "id": "b53ebfe9",
   "metadata": {},
   "outputs": [
    {
     "name": "stdout",
     "output_type": "stream",
     "text": [
      "['989-231-3290', '939-578-8294']\n",
      "[('(989)', '231-3290'), ('(939)', '578-8294')]\n"
     ]
    }
   ],
   "source": [
    "# having no groups\n",
    "import re\n",
    "phoneNumRegex = re.compile(r'\\d{3}-\\d{3}-\\d{4}')\n",
    "mo = phoneNumRegex.findall('My numbers are 989-231-3290 939-578-8294')\n",
    "print(mo) \n",
    "# having groups\n",
    "import re\n",
    "phoneNumRegex = re.compile(r'(\\(\\d\\d\\d\\))-(\\d\\d\\d-\\d\\d\\d\\d)')\n",
    "mo = phoneNumRegex.findall('My phone numbers are (989)-231-3290 (939)-578-8294')\n",
    "print(mo )# Prints all groups in a tuple format\n"
   ]
  },
  {
   "cell_type": "markdown",
   "id": "bb96681c",
   "metadata": {},
   "source": [
    "**Q8. In standard expressions, what does the | character mean?**\n",
    "\n",
    "Answer: In standard expressions, | means OR operator\n"
   ]
  },
  {
   "cell_type": "markdown",
   "id": "6c4fef5c",
   "metadata": {},
   "source": [
    "**Q9. In regular expressions, what does the ? character stand for?**\n",
    "\n",
    "Answer: In regular Expressions, ? characters represents zero or one match of the preceeding group."
   ]
  },
  {
   "cell_type": "code",
   "execution_count": 5,
   "id": "8c2d6f43",
   "metadata": {},
   "outputs": [
    {
     "name": "stdout",
     "output_type": "stream",
     "text": [
      "<re.Match object; span=(9, 14), match='woman'>\n",
      "<re.Match object; span=(8, 11), match='man'>\n"
     ]
    }
   ],
   "source": [
    "import re\n",
    "match_1 = re.search(\"(wo)?man\",\"She is a woman\")\n",
    "print(match_1)\n",
    "match_2 = re.search(\"(wo)?man\",\"He is a man\")\n",
    "print(match_2)"
   ]
  },
  {
   "cell_type": "markdown",
   "id": "962ad11f",
   "metadata": {},
   "source": [
    "**Q10. In regular expressions, what is the difference between the + and * characters?**\n",
    "\n",
    "Answer: In Regular Expressions, * Represents zero or more occurrences of the preceeding group, whereas + represents one or more occurrences of the preceeding group."
   ]
  },
  {
   "cell_type": "code",
   "execution_count": 6,
   "id": "c2bc961e",
   "metadata": {},
   "outputs": [
    {
     "name": "stdout",
     "output_type": "stream",
     "text": [
      "<re.Match object; span=(9, 14), match='woman'>\n",
      "None\n"
     ]
    }
   ],
   "source": [
    "import re\n",
    "match_1 = re.search(\"(wo)*man\",\"She is a woman\")\n",
    "print(match_1)\n",
    "match_2 = re.search(\"(wo)+man\",\"He is a man\")\n",
    "print(match_2)"
   ]
  },
  {
   "cell_type": "markdown",
   "id": "aad75c25",
   "metadata": {},
   "source": [
    "**Q11. What is the difference between {4} and {4,5} in regular expression?**\n",
    "\n",
    "Answer: {4} means that its preceeding group should repeat 4 times. where as {4,5} means that its preceeding group should repeat mininum 4 times and maximum 5 times inclusively"
   ]
  },
  {
   "cell_type": "code",
   "execution_count": 7,
   "id": "36f8fd2e",
   "metadata": {},
   "outputs": [
    {
     "name": "stdout",
     "output_type": "stream",
     "text": [
      "<re.Match object; span=(0, 10), match='HaHaHaHaHa'>\n",
      "None\n"
     ]
    }
   ],
   "source": [
    "import re\n",
    "haRegex = re.compile(r'(Ha){4,5}')\n",
    "mo1 = haRegex.search('HaHaHaHaHa')\n",
    "mo2 = haRegex.search('Ha')\n",
    "print(mo1)\n",
    "print(mo2)"
   ]
  },
  {
   "cell_type": "markdown",
   "id": "890ab946",
   "metadata": {},
   "source": [
    "**Q12. What do you mean by the \\d, \\w, and \\s shorthand character classes signify in regular expressions?**\n",
    "\n",
    "Answer: They are special sequences in regular expressions in python:\n",
    "        \n",
    "1. \\w – Matches a word character equivalent to [a-zA-Z0-9_]\n",
    "2. \\d – Matches digit character equivalent to [0-9]\n",
    "3. \\s – Matches whitespace character (space, tab, newline, etc.)\n"
   ]
  },
  {
   "cell_type": "markdown",
   "id": "78cf5741",
   "metadata": {},
   "source": [
    "**Q13. What do means by \\D, \\W, and \\S shorthand character classes signify in regular expressions?**\n",
    "\n",
    "Answer: They are special sequences in regular expressions in python:\n",
    "\n",
    "1. \\W – Matches any non-alphanumeric character equivalent to [^a-zA-Z0-9_]\n",
    "2. \\D – Matches any non-digit character, this is equivalent to the set class [^0-9]\n",
    "3. \\S – Matches any non-whitespace character\n"
   ]
  },
  {
   "cell_type": "markdown",
   "id": "76ad6f02",
   "metadata": {},
   "source": [
    "**Q14. What is the difference between .\\*? and .\\* ?**\n",
    "\n",
    "Answer: .* is a Greedy mode, which returns the longest string that meets the condition. Whereas .*? is a non greedy mode which returns the shortest string that meets the condition."
   ]
  },
  {
   "cell_type": "markdown",
   "id": "52e8080f",
   "metadata": {},
   "source": [
    "**Q15. What is the syntax for matching both numbers and lowercase letters with a character class?**\n",
    "\n",
    "Answer: The Synatax is either [a-z0-9] or [0-9a-z]"
   ]
  },
  {
   "cell_type": "markdown",
   "id": "55abedd6",
   "metadata": {},
   "source": [
    "**Q16. What is the procedure for making a normal expression in regax case insensitive?**\n",
    "\n",
    "Answer: We can pass re.IGNORECASE as a flag to make a noraml expression case insensitive"
   ]
  },
  {
   "cell_type": "markdown",
   "id": "57a2e928",
   "metadata": {},
   "source": [
    "**Q17. What does the . character normally match? What does it match if re.DOTALL is passed as 2nd argument in re.compile()?**\n",
    "\n",
    "Answer: Dot . character matches everything in input except newline character. By passing re.DOTALL as a flag to re.compile(), you can make the dot character match all characters, including the newline character."
   ]
  },
  {
   "cell_type": "markdown",
   "id": "a8d924d6",
   "metadata": {},
   "source": [
    "**Q18. If numReg = re.compile(r'\\d+'), what will numRegex.sub('X', '11 drummers, 10 pipers, five rings, 4 hen') return?**\n",
    "\n",
    "Answer: The Ouput will be 'X drummers, X pipers, five rings, X hen'"
   ]
  },
  {
   "cell_type": "code",
   "execution_count": 8,
   "id": "c26f6525",
   "metadata": {},
   "outputs": [
    {
     "data": {
      "text/plain": [
       "'X drummers, X pipers, five rings, X hen'"
      ]
     },
     "execution_count": 8,
     "metadata": {},
     "output_type": "execute_result"
    }
   ],
   "source": [
    "import re\n",
    "numReg = re.compile(r'\\d+')\n",
    "numReg.sub('X', '11 drummers, 10 pipers, five rings, 4 hen')"
   ]
  },
  {
   "cell_type": "markdown",
   "id": "67c13df2",
   "metadata": {},
   "source": [
    "**Q19. What does passing re.VERBOSE as the 2nd argument to re.compile() allow to do?**\n",
    "\n",
    "Answer: re.VERBOSE will allow to add whitespace and comments to string passed to re.compile() to make them look neat."
   ]
  },
  {
   "cell_type": "code",
   "execution_count": 9,
   "id": "f94f2161",
   "metadata": {},
   "outputs": [],
   "source": [
    "# Without Using VERBOSE\n",
    "regex_email = re.compile(r'^([a-z0-9_\\.-]+)@([0-9a-z\\.-]+)\\.([a-z\\.]{2, 6})$', re.IGNORECASE)\n",
    " \n",
    "# Using VERBOSE\n",
    "regex_email = re.compile(r\"\"\"\n",
    "                            ^([a-z0-9_\\.-]+)              # local Part like username\n",
    "                            @                             # single @ sign \n",
    "                            ([0-9a-z\\.-]+)                # Domain name like google\n",
    "                            \\.                            # single Dot .\n",
    "                            ([a-z]{2,6})$                 # Top level Domain  like com/in/org\n",
    "                         \"\"\",re.VERBOSE | re.IGNORECASE)   "
   ]
  },
  {
   "cell_type": "markdown",
   "id": "f2768e0d",
   "metadata": {},
   "source": [
    "**Q20. How would you write a regex that match a number with comma for every three digits? It must match the given following:**\n",
    "<br>'42','1,234', '6,368,745' but not the following: '12,34,567' (which has only two digits between the commas) '1234' (which lacks commas)\n",
    "\n",
    "Answer: "
   ]
  },
  {
   "cell_type": "code",
   "execution_count": 10,
   "id": "11abfec5",
   "metadata": {},
   "outputs": [
    {
     "name": "stdout",
     "output_type": "stream",
     "text": [
      "Output: 42 -> <re.Match object; span=(0, 2), match='42'>\n",
      "Output: 1,234 -> <re.Match object; span=(0, 5), match='1,234'>\n",
      "Output: 6,368,745 -> <re.Match object; span=(0, 9), match='6,368,745'>\n",
      "Output: 12,34,567 -> None\n",
      "Output: 1234 -> None\n"
     ]
    }
   ],
   "source": [
    "import re\n",
    "pattern = r'^\\d{1,3}(,\\d{3})*$'\n",
    "pagex = re.compile(pattern)\n",
    "for ele in ['42','1,234', '6,368,745','12,34,567','1234']:\n",
    "    print('Output:',ele, '->', pagex.search(ele))"
   ]
  },
  {
   "cell_type": "markdown",
   "id": "0996bcf3",
   "metadata": {},
   "source": [
    "**Q21. How would you write a regex that matches the full name of someone whose last name is Watanabe? You can assume that the first name that comes before it will always be one word that begins with a capital letter. The regex must match the following:**\n",
    "\n",
    "'Haruto Watanabe'<br>\n",
    "'Alice Watanabe'<br>\n",
    "'RoboCop Watanabe'<br>\n",
    "\n",
    "but not the following:\n",
    "\n",
    "'haruto Watanabe' (where the first name is not capitalized)<br>\n",
    "'Mr. Watanabe' (where the preceding word has a nonletter character)<br>\n",
    "'Watanabe' (which has no first name)<br>\n",
    "'Haruto watanabe' (where Watanabe is not capitalized)<br>\n",
    "\n",
    "Answer: The required pattern would be '^[A-Z]{1}[a-z]*\\sWatanabe'"
   ]
  },
  {
   "cell_type": "code",
   "execution_count": 11,
   "id": "26fd4206",
   "metadata": {},
   "outputs": [
    {
     "name": "stdout",
     "output_type": "stream",
     "text": [
      "Output:  Haruto Watanabe -> <re.Match object; span=(0, 15), match='Haruto Watanabe'>\n",
      "Output:  Alice Watanabe -> <re.Match object; span=(0, 14), match='Alice Watanabe'>\n",
      "Output:  RoboCop Watanabe -> None\n",
      "Output:  haruto Watanabe -> None\n",
      "Output:  Mr. Watanabe -> None\n",
      "Output:  Watanabe -> None\n",
      "Output:  Haruto watanabe -> None\n"
     ]
    }
   ],
   "source": [
    "#Solution\n",
    "import re\n",
    "pattern=r'^[A-Z]{1}[a-z]*\\sWatanabe'\n",
    "namex = re.compile(pattern)\n",
    "for name in ['Haruto Watanabe','Alice Watanabe','RoboCop Watanabe','haruto Watanabe','Mr. Watanabe','Watanabe','Haruto watanabe']:\n",
    "    print('Output: ',name,'->',namex.search(name))"
   ]
  },
  {
   "cell_type": "markdown",
   "id": "e11af9bc",
   "metadata": {},
   "source": [
    "**Q22. How would you write a regex that matches a sentence where the first word is either Alice, Bob,or Carol; the second word is either eats, pets, or throws; the third word is apples, cats, or baseballs; and the sentence ends with a period? This regex should be case-insensitive. It must match the following:**\n",
    "    \n",
    "'Alice eats apples.'<br>\n",
    "'Bob pets cats.'<br>\n",
    "'Carol throws baseballs.'<br>\n",
    "'Alice throws Apples.'<br>\n",
    "'BOB EATS CATS.'<br>\n",
    "\n",
    "but not the following:<br>\n",
    "\n",
    "'RoboCop eats apples.'<br>\n",
    "'ALICE THROWS FOOTBALLS.'<br>\n",
    "'Carol eats 7 cats.'<br>\n",
    "\n",
    "Answer: The required pattern would be r'(Alice|Bob|Carol)\\s(eats|pets|throws)\\s(apples|cats|baseballs)\\.'"
   ]
  },
  {
   "cell_type": "code",
   "execution_count": 12,
   "id": "127bf59b",
   "metadata": {},
   "outputs": [
    {
     "name": "stdout",
     "output_type": "stream",
     "text": [
      "Output:  Alice eats apples. -> <re.Match object; span=(0, 18), match='Alice eats apples.'>\n",
      "Output:  Bob pets cats. -> <re.Match object; span=(0, 14), match='Bob pets cats.'>\n",
      "Output:  Carol throws baseballs. -> <re.Match object; span=(0, 23), match='Carol throws baseballs.'>\n",
      "Output:  Alice throws Apples. -> <re.Match object; span=(0, 20), match='Alice throws Apples.'>\n",
      "Output:  BOB EATS CATS. -> <re.Match object; span=(0, 14), match='BOB EATS CATS.'>\n",
      "Output:  RoboCop eats apples. -> None\n",
      "Output:  ALICE THROWS FOOTBALLS. -> None\n",
      "Output:  Carol eats 7 cats. -> None\n"
     ]
    }
   ],
   "source": [
    "#Solution\n",
    "import re\n",
    "pattern = r'(Alice|Bob|Carol)\\s(eats|pets|throws)\\s(apples|cats|baseballs)\\.'\n",
    "casex = re.compile(pattern,re.IGNORECASE)\n",
    "for ele in ['Alice eats apples.','Bob pets cats.','Carol throws baseballs.','Alice throws Apples.','BOB EATS CATS.','RoboCop eats apples.'\n",
    ",'ALICE THROWS FOOTBALLS.','Carol eats 7 cats.']:\n",
    "    print('Output: ',ele,'->',casex.search(ele))"
   ]
  }
 ],
 "metadata": {
  "kernelspec": {
   "display_name": "Python [conda env:root] *",
   "language": "python",
   "name": "conda-root-py"
  },
  "language_info": {
   "codemirror_mode": {
    "name": "ipython",
    "version": 3
   },
   "file_extension": ".py",
   "mimetype": "text/x-python",
   "name": "python",
   "nbconvert_exporter": "python",
   "pygments_lexer": "ipython3",
   "version": "3.9.7"
  }
 },
 "nbformat": 4,
 "nbformat_minor": 5
}
